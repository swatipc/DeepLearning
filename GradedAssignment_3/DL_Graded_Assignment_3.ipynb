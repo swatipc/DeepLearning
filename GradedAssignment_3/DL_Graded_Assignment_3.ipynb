{
  "nbformat": 4,
  "nbformat_minor": 0,
  "metadata": {
    "colab": {
      "name": "DL_Graded_Assignment_3.ipynb",
      "provenance": []
    },
    "kernelspec": {
      "name": "python3",
      "display_name": "Python 3"
    }
  },
  "cells": [
    {
      "cell_type": "code",
      "metadata": {
        "id": "NorLvjwGfZv8",
        "colab_type": "code",
        "colab": {
          "base_uri": "https://localhost:8080/",
          "height": 50
        },
        "outputId": "5e6593ff-b347-4de9-c150-6d1d981c4078"
      },
      "source": [
        "import pandas as pd\n",
        "import numpy as np\n",
        "!pip install -U -q PyDrive\n",
        "from pydrive.auth import GoogleAuth\n",
        "from pydrive.drive import GoogleDrive\n",
        "from google.colab import auth\n",
        "from oauth2client.client import GoogleCredentials\n",
        "\n",
        "import zipfile\n",
        "import cv2\n",
        "from tqdm import tqdm\n",
        "\n",
        "import tensorflow as tf\n",
        "from tensorflow import keras\n",
        "\n",
        "import keras as k\n",
        "from keras.models import Sequential\n",
        "from keras.layers import Dense, Dropout, Flatten\n",
        "from keras.layers import Conv2D, MaxPooling2D\n",
        "import os\n",
        "import datetime\n",
        "\n",
        "from tensorboard.plugins.hparams import api_pb2\n",
        "from keras.callbacks import TensorBoard\n",
        "%reload_ext autoreload\n",
        "%autoreload 2\n",
        "%matplotlib inline\n",
        "%load_ext tensorboard\n",
        "from tensorboard.plugins.hparams import summary as hparams_summary\n",
        "from google.protobuf import struct_pb2\n",
        "from keras.callbacks import TensorBoard\n",
        "\n",
        "import tensorflow as tf\n",
        "import datetime\n",
        "\n",
        "!rm -rf ./logs/"
      ],
      "execution_count": 19,
      "outputs": [
        {
          "output_type": "stream",
          "text": [
            "The tensorboard extension is already loaded. To reload it, use:\n",
            "  %reload_ext tensorboard\n"
          ],
          "name": "stdout"
        }
      ]
    },
    {
      "cell_type": "code",
      "metadata": {
        "id": "Ag90LmO5Ddfi",
        "colab_type": "code",
        "colab": {
          "base_uri": "https://localhost:8080/",
          "height": 34
        },
        "outputId": "b112921f-f4ed-4c33-8e14-aedb892b98ec"
      },
      "source": [
        "from google.colab import drive\n",
        "drive.mount('/content/drive')"
      ],
      "execution_count": 4,
      "outputs": [
        {
          "output_type": "stream",
          "text": [
            "Drive already mounted at /content/drive; to attempt to forcibly remount, call drive.mount(\"/content/drive\", force_remount=True).\n"
          ],
          "name": "stdout"
        }
      ]
    },
    {
      "cell_type": "code",
      "metadata": {
        "id": "FT9pg0_pDgIN",
        "colab_type": "code",
        "colab": {
          "base_uri": "https://localhost:8080/",
          "height": 195
        },
        "outputId": "df29f16e-31ac-4be1-ab8a-6c5053515463"
      },
      "source": [
        "train_df = pd.read_csv(\"/content/drive/My Drive/data/Planet/train_v2.csv/train_v2.csv\")\n",
        "train_df.head()"
      ],
      "execution_count": 5,
      "outputs": [
        {
          "output_type": "execute_result",
          "data": {
            "text/html": [
              "<div>\n",
              "<style scoped>\n",
              "    .dataframe tbody tr th:only-of-type {\n",
              "        vertical-align: middle;\n",
              "    }\n",
              "\n",
              "    .dataframe tbody tr th {\n",
              "        vertical-align: top;\n",
              "    }\n",
              "\n",
              "    .dataframe thead th {\n",
              "        text-align: right;\n",
              "    }\n",
              "</style>\n",
              "<table border=\"1\" class=\"dataframe\">\n",
              "  <thead>\n",
              "    <tr style=\"text-align: right;\">\n",
              "      <th></th>\n",
              "      <th>image_name</th>\n",
              "      <th>tags</th>\n",
              "    </tr>\n",
              "  </thead>\n",
              "  <tbody>\n",
              "    <tr>\n",
              "      <th>0</th>\n",
              "      <td>train_0</td>\n",
              "      <td>haze primary</td>\n",
              "    </tr>\n",
              "    <tr>\n",
              "      <th>1</th>\n",
              "      <td>train_1</td>\n",
              "      <td>agriculture clear primary water</td>\n",
              "    </tr>\n",
              "    <tr>\n",
              "      <th>2</th>\n",
              "      <td>train_2</td>\n",
              "      <td>clear primary</td>\n",
              "    </tr>\n",
              "    <tr>\n",
              "      <th>3</th>\n",
              "      <td>train_3</td>\n",
              "      <td>clear primary</td>\n",
              "    </tr>\n",
              "    <tr>\n",
              "      <th>4</th>\n",
              "      <td>train_4</td>\n",
              "      <td>agriculture clear habitation primary road</td>\n",
              "    </tr>\n",
              "  </tbody>\n",
              "</table>\n",
              "</div>"
            ],
            "text/plain": [
              "  image_name                                       tags\n",
              "0    train_0                               haze primary\n",
              "1    train_1            agriculture clear primary water\n",
              "2    train_2                              clear primary\n",
              "3    train_3                              clear primary\n",
              "4    train_4  agriculture clear habitation primary road"
            ]
          },
          "metadata": {
            "tags": []
          },
          "execution_count": 5
        }
      ]
    },
    {
      "cell_type": "code",
      "metadata": {
        "id": "S5eU8RvTFZOt",
        "colab_type": "code",
        "colab": {
          "base_uri": "https://localhost:8080/",
          "height": 195
        },
        "outputId": "f31fe53e-bbb1-49b6-b012-7abeaf1268c8"
      },
      "source": [
        "test_df = pd.read_csv(\"/content/drive/My Drive/data/Planet/sample_submission_v2.csv/sample_submission_v2.csv\")\n",
        "test_df.head()"
      ],
      "execution_count": 6,
      "outputs": [
        {
          "output_type": "execute_result",
          "data": {
            "text/html": [
              "<div>\n",
              "<style scoped>\n",
              "    .dataframe tbody tr th:only-of-type {\n",
              "        vertical-align: middle;\n",
              "    }\n",
              "\n",
              "    .dataframe tbody tr th {\n",
              "        vertical-align: top;\n",
              "    }\n",
              "\n",
              "    .dataframe thead th {\n",
              "        text-align: right;\n",
              "    }\n",
              "</style>\n",
              "<table border=\"1\" class=\"dataframe\">\n",
              "  <thead>\n",
              "    <tr style=\"text-align: right;\">\n",
              "      <th></th>\n",
              "      <th>image_name</th>\n",
              "      <th>tags</th>\n",
              "    </tr>\n",
              "  </thead>\n",
              "  <tbody>\n",
              "    <tr>\n",
              "      <th>0</th>\n",
              "      <td>test_0</td>\n",
              "      <td>primary clear agriculture road water</td>\n",
              "    </tr>\n",
              "    <tr>\n",
              "      <th>1</th>\n",
              "      <td>test_1</td>\n",
              "      <td>primary clear agriculture road water</td>\n",
              "    </tr>\n",
              "    <tr>\n",
              "      <th>2</th>\n",
              "      <td>test_2</td>\n",
              "      <td>primary clear agriculture road water</td>\n",
              "    </tr>\n",
              "    <tr>\n",
              "      <th>3</th>\n",
              "      <td>test_3</td>\n",
              "      <td>primary clear agriculture road water</td>\n",
              "    </tr>\n",
              "    <tr>\n",
              "      <th>4</th>\n",
              "      <td>test_4</td>\n",
              "      <td>primary clear agriculture road water</td>\n",
              "    </tr>\n",
              "  </tbody>\n",
              "</table>\n",
              "</div>"
            ],
            "text/plain": [
              "  image_name                                  tags\n",
              "0     test_0  primary clear agriculture road water\n",
              "1     test_1  primary clear agriculture road water\n",
              "2     test_2  primary clear agriculture road water\n",
              "3     test_3  primary clear agriculture road water\n",
              "4     test_4  primary clear agriculture road water"
            ]
          },
          "metadata": {
            "tags": []
          },
          "execution_count": 6
        }
      ]
    },
    {
      "cell_type": "code",
      "metadata": {
        "id": "BViSs078tXPg",
        "colab_type": "code",
        "colab": {}
      },
      "source": [
        "#!unzip -uq \"/content/drive/My Drive/data/Planet/train-jpg/train-jpg.zip\" -d \"/content/drive/My Drive/data/Planet/train-jpg/train-jpg\""
      ],
      "execution_count": 0,
      "outputs": []
    },
    {
      "cell_type": "code",
      "metadata": {
        "id": "IiT50ABdJ8MX",
        "colab_type": "code",
        "colab": {}
      },
      "source": [
        "# Extracting the files\n",
        "auth.authenticate_user()\n",
        "gauth = GoogleAuth()\n",
        "gauth.credentials = GoogleCredentials.get_application_default()\n",
        "drive = GoogleDrive(gauth)\n",
        "link = 'https://drive.google.com/open?id=1DWmr3LOsL7A3ATpLj1S-Np1J4c-kZQeQ'\n",
        "fluff, id = link.split('=')\n",
        "\n",
        "download = drive.CreateFile({'id':id})\n",
        "download.GetContentFile('train-jpg.zip')\n",
        "\n",
        "with zipfile.ZipFile('train-jpg.zip', 'r') as zip_ref:\n",
        "    zip_ref.extractall()"
      ],
      "execution_count": 0,
      "outputs": []
    },
    {
      "cell_type": "code",
      "metadata": {
        "id": "Zw2nttfxtvU-",
        "colab_type": "code",
        "colab": {}
      },
      "source": [
        "xTrain = []\n",
        "yTrain = []\n",
        "\n",
        "labels = train_df['tags'].str.get_dummies(sep=' ').columns"
      ],
      "execution_count": 0,
      "outputs": []
    },
    {
      "cell_type": "code",
      "metadata": {
        "id": "g1P6cZtkuQ9i",
        "colab_type": "code",
        "colab": {
          "base_uri": "https://localhost:8080/",
          "height": 302
        },
        "outputId": "87137453-d2b9-413f-fd72-ea7226c033d7"
      },
      "source": [
        "labels_map = {l: i for i, l in enumerate(labels)}\n",
        "inv_labels_map = {i: l for l, i in labels_map.items()}\n",
        "inv_labels_map"
      ],
      "execution_count": 9,
      "outputs": [
        {
          "output_type": "execute_result",
          "data": {
            "text/plain": [
              "{0: 'agriculture',\n",
              " 1: 'artisinal_mine',\n",
              " 2: 'bare_ground',\n",
              " 3: 'blooming',\n",
              " 4: 'blow_down',\n",
              " 5: 'clear',\n",
              " 6: 'cloudy',\n",
              " 7: 'conventional_mine',\n",
              " 8: 'cultivation',\n",
              " 9: 'habitation',\n",
              " 10: 'haze',\n",
              " 11: 'partly_cloudy',\n",
              " 12: 'primary',\n",
              " 13: 'road',\n",
              " 14: 'selective_logging',\n",
              " 15: 'slash_burn',\n",
              " 16: 'water'}"
            ]
          },
          "metadata": {
            "tags": []
          },
          "execution_count": 9
        }
      ]
    },
    {
      "cell_type": "code",
      "metadata": {
        "id": "W-dZJhFVJ8WE",
        "colab_type": "code",
        "colab": {
          "base_uri": "https://localhost:8080/",
          "height": 34
        },
        "outputId": "06659b93-433b-4903-b532-3dcd05140d69"
      },
      "source": [
        "\n",
        "for f, tags in tqdm(train_df.values, miniters=1000):\n",
        "    img = cv2.imread('train-jpg/{}.jpg'.format(f))\n",
        "    targets = np.zeros(17)\n",
        "    for t in tags.split(' '):\n",
        "        targets[labels_map[t]] = 1 \n",
        "    xTrain.append(cv2.resize(img, (32, 32)))\n",
        "    yTrain.append(targets)\n",
        "\n",
        "xTrain = np.array(xTrain, np.float16) / 255.\n",
        "yTrain = np.array(yTrain, np.uint8)"
      ],
      "execution_count": 10,
      "outputs": [
        {
          "output_type": "stream",
          "text": [
            "100%|██████████| 40479/40479 [00:56<00:00, 712.12it/s]\n"
          ],
          "name": "stderr"
        }
      ]
    },
    {
      "cell_type": "code",
      "metadata": {
        "id": "NNdr2pgtKMVc",
        "colab_type": "code",
        "colab": {}
      },
      "source": [
        "link = 'https://drive.google.com/open?id=1qJraDETkZL4xStB54c7i4WXYch51-_PW'\n",
        "fluff, id = link.split('=')\n",
        "\n",
        "download = drive.CreateFile({'id':id}) \n",
        "download.GetContentFile('test-jpg.zip')\n",
        "\n",
        "with zipfile.ZipFile('test-jpg.zip', 'r') as zip_ref:\n",
        "    zip_ref.extractall()"
      ],
      "execution_count": 0,
      "outputs": []
    },
    {
      "cell_type": "code",
      "metadata": {
        "id": "9R9cr1BAKWkx",
        "colab_type": "code",
        "colab": {}
      },
      "source": [
        "xTest = []\n",
        "yTest = []"
      ],
      "execution_count": 0,
      "outputs": []
    },
    {
      "cell_type": "code",
      "metadata": {
        "id": "sVI_rF3HKaX2",
        "colab_type": "code",
        "colab": {
          "base_uri": "https://localhost:8080/",
          "height": 34
        },
        "outputId": "8ff52cce-b342-4035-a002-540eadaf4ff5"
      },
      "source": [
        "for f, tags in tqdm(train_df.values, miniters=1000):\n",
        "  try:\n",
        "    img = cv2.imread('test-jpg/{}.jpg'.format(f))\n",
        "    targets = np.zeros(17)\n",
        "    for t in tags.split(' '):\n",
        "        targets[labels_map[t]] = 1 \n",
        "    xTest.append(cv2.resize(img, (32, 32)))\n",
        "    yTest.append(targets)\n",
        "  except:\n",
        "    continue\n",
        "    \n",
        "xTest = np.array(xTest, np.float16) / 255.\n",
        "yTest = np.array(yTest, np.uint8)"
      ],
      "execution_count": 13,
      "outputs": [
        {
          "output_type": "stream",
          "text": [
            "100%|██████████| 40479/40479 [00:03<00:00, 11861.88it/s]\n"
          ],
          "name": "stderr"
        }
      ]
    },
    {
      "cell_type": "code",
      "metadata": {
        "id": "IXHVADhkKdpD",
        "colab_type": "code",
        "colab": {}
      },
      "source": [
        "#Split the dataset to train and test\n",
        "x_train, x_valid, y_train, y_valid = xTrain[:35000], xTrain[35000:], yTrain[:35000], yTrain[35000:]"
      ],
      "execution_count": 0,
      "outputs": []
    },
    {
      "cell_type": "code",
      "metadata": {
        "id": "eIuja9zzKhvc",
        "colab_type": "code",
        "colab": {}
      },
      "source": [
        "def planet_model():\n",
        "  my_model = Sequential()\n",
        "  my_model.add(Conv2D(32, kernel_size=(3, 3), activation='relu', input_shape=(32, 32, 3)))\n",
        "  my_model.add(Conv2D(64, (3, 3), activation='relu'))\n",
        "  my_model.add(MaxPooling2D(pool_size=(2, 2)))\n",
        "  my_model.add(Dropout(0.25))\n",
        "  my_model.add(Flatten())\n",
        "  my_model.add(Dense(128, activation='relu'))\n",
        "  my_model.add(Dropout(0.5))\n",
        "  my_model.add(Dense(17, activation='sigmoid'))\n",
        "  return my_model"
      ],
      "execution_count": 0,
      "outputs": []
    },
    {
      "cell_type": "code",
      "metadata": {
        "id": "yOkgk8wLKlFf",
        "colab_type": "code",
        "colab": {
          "base_uri": "https://localhost:8080/",
          "height": 420
        },
        "outputId": "c54d830b-3776-4d6e-d20a-ba46dede40eb"
      },
      "source": [
        "model = planet_model()\n",
        "model.summary()"
      ],
      "execution_count": 16,
      "outputs": [
        {
          "output_type": "stream",
          "text": [
            "Model: \"sequential_1\"\n",
            "_________________________________________________________________\n",
            "Layer (type)                 Output Shape              Param #   \n",
            "=================================================================\n",
            "conv2d_1 (Conv2D)            (None, 30, 30, 32)        896       \n",
            "_________________________________________________________________\n",
            "conv2d_2 (Conv2D)            (None, 28, 28, 64)        18496     \n",
            "_________________________________________________________________\n",
            "max_pooling2d_1 (MaxPooling2 (None, 14, 14, 64)        0         \n",
            "_________________________________________________________________\n",
            "dropout_1 (Dropout)          (None, 14, 14, 64)        0         \n",
            "_________________________________________________________________\n",
            "flatten_1 (Flatten)          (None, 12544)             0         \n",
            "_________________________________________________________________\n",
            "dense_1 (Dense)              (None, 128)               1605760   \n",
            "_________________________________________________________________\n",
            "dropout_2 (Dropout)          (None, 128)               0         \n",
            "_________________________________________________________________\n",
            "dense_2 (Dense)              (None, 17)                2193      \n",
            "=================================================================\n",
            "Total params: 1,627,345\n",
            "Trainable params: 1,627,345\n",
            "Non-trainable params: 0\n",
            "_________________________________________________________________\n"
          ],
          "name": "stdout"
        }
      ]
    },
    {
      "cell_type": "code",
      "metadata": {
        "id": "wlzjCf8DKoOn",
        "colab_type": "code",
        "colab": {}
      },
      "source": [
        "model.compile(loss='binary_crossentropy', optimizer='adam', metrics=['accuracy'])"
      ],
      "execution_count": 0,
      "outputs": []
    },
    {
      "cell_type": "code",
      "metadata": {
        "id": "8TlfrxDlKr09",
        "colab_type": "code",
        "colab": {
          "base_uri": "https://localhost:8080/",
          "height": 185
        },
        "outputId": "31f53078-167f-43a6-8a51-ad23900973eb"
      },
      "source": [
        "#Train the model\n",
        "model.fit(x_train, y_train, batch_size=128, epochs=4, verbose=1, validation_data=(x_valid, y_valid))"
      ],
      "execution_count": 18,
      "outputs": [
        {
          "output_type": "stream",
          "text": [
            "Train on 35000 samples, validate on 5479 samples\n",
            "Epoch 1/4\n",
            "35000/35000 [==============================] - 121s 3ms/step - loss: 0.2541 - accuracy: 0.9035 - val_loss: 0.2026 - val_accuracy: 0.9197\n",
            "Epoch 2/4\n",
            "35000/35000 [==============================] - 120s 3ms/step - loss: 0.2039 - accuracy: 0.9200 - val_loss: 0.1829 - val_accuracy: 0.9279\n",
            "Epoch 3/4\n",
            "35000/35000 [==============================] - 120s 3ms/step - loss: 0.1902 - accuracy: 0.9256 - val_loss: 0.1738 - val_accuracy: 0.9306\n",
            "Epoch 4/4\n",
            "35000/35000 [==============================] - 118s 3ms/step - loss: 0.1836 - accuracy: 0.9281 - val_loss: 0.1669 - val_accuracy: 0.9343\n"
          ],
          "name": "stdout"
        },
        {
          "output_type": "execute_result",
          "data": {
            "text/plain": [
              "<keras.callbacks.callbacks.History at 0x7f899a69b358>"
            ]
          },
          "metadata": {
            "tags": []
          },
          "execution_count": 18
        }
      ]
    },
    {
      "cell_type": "code",
      "metadata": {
        "id": "wpjPBkGZKyWd",
        "colab_type": "code",
        "colab": {}
      },
      "source": [
        "logdir = os.path.join(\"logs\", datetime.datetime.now().strftime(\"%Y%m%d-%H%M%S\"))\n",
        "tensorboard_callback = TensorBoard(log_dir=logdir, histogram_freq=1)"
      ],
      "execution_count": 0,
      "outputs": []
    },
    {
      "cell_type": "code",
      "metadata": {
        "id": "59pkG8eZK1PZ",
        "colab_type": "code",
        "colab": {}
      },
      "source": [
        "model.compile(loss='binary_crossentropy', optimizer='adam', metrics=['accuracy'])"
      ],
      "execution_count": 0,
      "outputs": []
    },
    {
      "cell_type": "code",
      "metadata": {
        "id": "9LQ8dJm_K1ST",
        "colab_type": "code",
        "colab": {
          "base_uri": "https://localhost:8080/",
          "height": 185
        },
        "outputId": "08aa3cad-d5f7-47e2-9670-4fd3ffe363cb"
      },
      "source": [
        "model.fit(x_train, y_train, batch_size=128, epochs=4, verbose=1, validation_data=(x_valid, y_valid))"
      ],
      "execution_count": 22,
      "outputs": [
        {
          "output_type": "stream",
          "text": [
            "Train on 35000 samples, validate on 5479 samples\n",
            "Epoch 1/4\n",
            "35000/35000 [==============================] - 120s 3ms/step - loss: 0.1787 - accuracy: 0.9305 - val_loss: 0.1662 - val_accuracy: 0.9347\n",
            "Epoch 2/4\n",
            "35000/35000 [==============================] - 119s 3ms/step - loss: 0.1725 - accuracy: 0.9323 - val_loss: 0.1620 - val_accuracy: 0.9365\n",
            "Epoch 3/4\n",
            "35000/35000 [==============================] - 119s 3ms/step - loss: 0.1695 - accuracy: 0.9333 - val_loss: 0.1629 - val_accuracy: 0.9370\n",
            "Epoch 4/4\n",
            "35000/35000 [==============================] - 119s 3ms/step - loss: 0.1658 - accuracy: 0.9346 - val_loss: 0.1532 - val_accuracy: 0.9394\n"
          ],
          "name": "stdout"
        },
        {
          "output_type": "execute_result",
          "data": {
            "text/plain": [
              "<keras.callbacks.callbacks.History at 0x7f899ab04940>"
            ]
          },
          "metadata": {
            "tags": []
          },
          "execution_count": 22
        }
      ]
    },
    {
      "cell_type": "code",
      "metadata": {
        "id": "awB1GFvnK1Vt",
        "colab_type": "code",
        "colab": {}
      },
      "source": [
        "#Define model\n",
        "def planet_model_1():\n",
        "  my_model_1 = Sequential()\n",
        "  my_model_1.add(Conv2D(64, (3, 3), input_shape=(32, 32, 3),activation='relu'))\n",
        "  my_model_1.add(MaxPooling2D(pool_size=(2, 2)))\n",
        "  my_model_1.add(Conv2D(32, (3, 3), activation='relu'))\n",
        "  my_model_1.add(MaxPooling2D(pool_size=(2, 2)))\n",
        "  my_model_1.add(Flatten())\n",
        "  my_model_1.add(Dense(units=128, activation='relu'))\n",
        "  my_model_1.add(Dropout(0.5))\n",
        "  my_model_1.add(Dense(units=128, activation='relu'))\n",
        "  my_model_1.add(Dropout(0.3))\n",
        "  my_model_1.add(Dense(units=17, activation='sigmoid'))\n",
        "  return my_model_1"
      ],
      "execution_count": 0,
      "outputs": []
    },
    {
      "cell_type": "code",
      "metadata": {
        "id": "oAL93zq8K7-G",
        "colab_type": "code",
        "colab": {
          "base_uri": "https://localhost:8080/",
          "height": 487
        },
        "outputId": "4485c107-be5d-4048-db55-c4ce426653e4"
      },
      "source": [
        "#Get summary of model\n",
        "model_1 = planet_model_1()\n",
        "model_1.summary()"
      ],
      "execution_count": 24,
      "outputs": [
        {
          "output_type": "stream",
          "text": [
            "Model: \"sequential_2\"\n",
            "_________________________________________________________________\n",
            "Layer (type)                 Output Shape              Param #   \n",
            "=================================================================\n",
            "conv2d_3 (Conv2D)            (None, 30, 30, 64)        1792      \n",
            "_________________________________________________________________\n",
            "max_pooling2d_2 (MaxPooling2 (None, 15, 15, 64)        0         \n",
            "_________________________________________________________________\n",
            "conv2d_4 (Conv2D)            (None, 13, 13, 32)        18464     \n",
            "_________________________________________________________________\n",
            "max_pooling2d_3 (MaxPooling2 (None, 6, 6, 32)          0         \n",
            "_________________________________________________________________\n",
            "flatten_2 (Flatten)          (None, 1152)              0         \n",
            "_________________________________________________________________\n",
            "dense_3 (Dense)              (None, 128)               147584    \n",
            "_________________________________________________________________\n",
            "dropout_3 (Dropout)          (None, 128)               0         \n",
            "_________________________________________________________________\n",
            "dense_4 (Dense)              (None, 128)               16512     \n",
            "_________________________________________________________________\n",
            "dropout_4 (Dropout)          (None, 128)               0         \n",
            "_________________________________________________________________\n",
            "dense_5 (Dense)              (None, 17)                2193      \n",
            "=================================================================\n",
            "Total params: 186,545\n",
            "Trainable params: 186,545\n",
            "Non-trainable params: 0\n",
            "_________________________________________________________________\n"
          ],
          "name": "stdout"
        }
      ]
    },
    {
      "cell_type": "code",
      "metadata": {
        "id": "VuxjN5o7K-Dp",
        "colab_type": "code",
        "colab": {
          "base_uri": "https://localhost:8080/",
          "height": 218
        },
        "outputId": "c84a12c5-ddcf-422a-d180-73f8b7ff89cd"
      },
      "source": [
        "#Compile the model\n",
        "model_1.compile(loss='binary_crossentropy', optimizer='sgd', metrics=['accuracy'])\n",
        "model_1.fit(x_train, y_train,batch_size=128,epochs=5,verbose=1,validation_data=(x_valid, y_valid),callbacks=[tensorboard_callback])\n"
      ],
      "execution_count": 25,
      "outputs": [
        {
          "output_type": "stream",
          "text": [
            "Train on 35000 samples, validate on 5479 samples\n",
            "Epoch 1/5\n",
            "35000/35000 [==============================] - 56s 2ms/step - loss: 0.6215 - accuracy: 0.7285 - val_loss: 0.4187 - val_accuracy: 0.9056\n",
            "Epoch 2/5\n",
            "35000/35000 [==============================] - 56s 2ms/step - loss: 0.3718 - accuracy: 0.8779 - val_loss: 0.2926 - val_accuracy: 0.9056\n",
            "Epoch 3/5\n",
            "35000/35000 [==============================] - 56s 2ms/step - loss: 0.3275 - accuracy: 0.8897 - val_loss: 0.2820 - val_accuracy: 0.9056\n",
            "Epoch 4/5\n",
            "35000/35000 [==============================] - 56s 2ms/step - loss: 0.3107 - accuracy: 0.8942 - val_loss: 0.2733 - val_accuracy: 0.9056\n",
            "Epoch 5/5\n",
            "35000/35000 [==============================] - 56s 2ms/step - loss: 0.2974 - accuracy: 0.8982 - val_loss: 0.2643 - val_accuracy: 0.9056\n"
          ],
          "name": "stdout"
        },
        {
          "output_type": "execute_result",
          "data": {
            "text/plain": [
              "<keras.callbacks.callbacks.History at 0x7f8990d0cc18>"
            ]
          },
          "metadata": {
            "tags": []
          },
          "execution_count": 25
        }
      ]
    },
    {
      "cell_type": "code",
      "metadata": {
        "id": "8SCLBNFNLA4m",
        "colab_type": "code",
        "colab": {
          "base_uri": "https://localhost:8080/",
          "height": 386
        },
        "outputId": "3a4ffa7a-566e-4cfb-d7ff-790567bac530"
      },
      "source": [
        "\n",
        "model_2 = planet_model_1()\n",
        "model_2.compile(loss='binary_crossentropy', optimizer='adam', metrics=['accuracy'])\n",
        "model_2.fit(x_train, y_train,batch_size=128,epochs=10,verbose=1,validation_data=(x_valid, y_valid),callbacks=[tensorboard_callback])"
      ],
      "execution_count": 26,
      "outputs": [
        {
          "output_type": "stream",
          "text": [
            "Train on 35000 samples, validate on 5479 samples\n",
            "Epoch 1/10\n",
            "35000/35000 [==============================] - 56s 2ms/step - loss: 0.2715 - accuracy: 0.8983 - val_loss: 0.2218 - val_accuracy: 0.9116\n",
            "Epoch 2/10\n",
            "35000/35000 [==============================] - 56s 2ms/step - loss: 0.2187 - accuracy: 0.9155 - val_loss: 0.2004 - val_accuracy: 0.9196\n",
            "Epoch 3/10\n",
            "35000/35000 [==============================] - 55s 2ms/step - loss: 0.2067 - accuracy: 0.9186 - val_loss: 0.1963 - val_accuracy: 0.9226\n",
            "Epoch 4/10\n",
            "35000/35000 [==============================] - 56s 2ms/step - loss: 0.1973 - accuracy: 0.9225 - val_loss: 0.1900 - val_accuracy: 0.9259\n",
            "Epoch 5/10\n",
            "35000/35000 [==============================] - 54s 2ms/step - loss: 0.1903 - accuracy: 0.9252 - val_loss: 0.1752 - val_accuracy: 0.9315\n",
            "Epoch 6/10\n",
            "35000/35000 [==============================] - 54s 2ms/step - loss: 0.1838 - accuracy: 0.9280 - val_loss: 0.1724 - val_accuracy: 0.9319\n",
            "Epoch 7/10\n",
            "35000/35000 [==============================] - 54s 2ms/step - loss: 0.1793 - accuracy: 0.9298 - val_loss: 0.1665 - val_accuracy: 0.9342\n",
            "Epoch 8/10\n",
            "35000/35000 [==============================] - 53s 2ms/step - loss: 0.1745 - accuracy: 0.9314 - val_loss: 0.1693 - val_accuracy: 0.9340\n",
            "Epoch 9/10\n",
            "35000/35000 [==============================] - 54s 2ms/step - loss: 0.1714 - accuracy: 0.9327 - val_loss: 0.1598 - val_accuracy: 0.9374\n",
            "Epoch 10/10\n",
            "35000/35000 [==============================] - 53s 2ms/step - loss: 0.1677 - accuracy: 0.9339 - val_loss: 0.1585 - val_accuracy: 0.9378\n"
          ],
          "name": "stdout"
        },
        {
          "output_type": "execute_result",
          "data": {
            "text/plain": [
              "<keras.callbacks.callbacks.History at 0x7f8990b58cf8>"
            ]
          },
          "metadata": {
            "tags": []
          },
          "execution_count": 26
        }
      ]
    },
    {
      "cell_type": "code",
      "metadata": {
        "id": "ohc6ilRXLCx6",
        "colab_type": "code",
        "colab": {}
      },
      "source": [
        "\n",
        "def amazon_model_2():\n",
        "  my_model_2 = Sequential()\n",
        "  my_model_2.add(Conv2D(64, (3, 3), input_shape=(32, 32, 3),activation='relu'))\n",
        "  my_model_2.add(MaxPooling2D(pool_size=(2, 2)))\n",
        "  my_model_2.add(Conv2D(32, (3, 3), activation='relu'))\n",
        "  my_model_2.add(MaxPooling2D(pool_size=(2, 2)))\n",
        "  my_model_2.add(Flatten())\n",
        "  my_model_2.add(Dense(units=128, activation='selu'))\n",
        "  my_model_2.add(Dropout(0.5))\n",
        "  my_model_2.add(Dense(units=128, activation='relu'))\n",
        "  my_model_2.add(Dropout(0.3))\n",
        "  my_model_2.add(Dense(units=17, activation='sigmoid'))\n",
        "  return my_model_2"
      ],
      "execution_count": 0,
      "outputs": []
    },
    {
      "cell_type": "code",
      "metadata": {
        "id": "_lD6OI5eLE_l",
        "colab_type": "code",
        "colab": {
          "base_uri": "https://localhost:8080/",
          "height": 386
        },
        "outputId": "0a5b4bb4-63b3-4da6-cf8a-395a173ab29f"
      },
      "source": [
        "\n",
        "model_3 = amazon_model_2()\n",
        "model_3.compile(loss='binary_crossentropy', optimizer='adam', metrics=['accuracy'])\n",
        "model_3.fit(x_train, y_train,batch_size=128,epochs=10,verbose=1,validation_data=(x_valid, y_valid),callbacks=[tensorboard_callback])"
      ],
      "execution_count": 28,
      "outputs": [
        {
          "output_type": "stream",
          "text": [
            "Train on 35000 samples, validate on 5479 samples\n",
            "Epoch 1/10\n",
            "35000/35000 [==============================] - 56s 2ms/step - loss: 0.2523 - accuracy: 0.9041 - val_loss: 0.2031 - val_accuracy: 0.9192\n",
            "Epoch 2/10\n",
            "35000/35000 [==============================] - 54s 2ms/step - loss: 0.2029 - accuracy: 0.9199 - val_loss: 0.1838 - val_accuracy: 0.9273\n",
            "Epoch 3/10\n",
            "35000/35000 [==============================] - 54s 2ms/step - loss: 0.1884 - accuracy: 0.9256 - val_loss: 0.1757 - val_accuracy: 0.9282\n",
            "Epoch 4/10\n",
            "35000/35000 [==============================] - 54s 2ms/step - loss: 0.1804 - accuracy: 0.9288 - val_loss: 0.1685 - val_accuracy: 0.9335\n",
            "Epoch 5/10\n",
            "35000/35000 [==============================] - 54s 2ms/step - loss: 0.1741 - accuracy: 0.9314 - val_loss: 0.1738 - val_accuracy: 0.9283\n",
            "Epoch 6/10\n",
            "35000/35000 [==============================] - 53s 2ms/step - loss: 0.1714 - accuracy: 0.9324 - val_loss: 0.1628 - val_accuracy: 0.9357\n",
            "Epoch 7/10\n",
            "35000/35000 [==============================] - 53s 2ms/step - loss: 0.1659 - accuracy: 0.9343 - val_loss: 0.1557 - val_accuracy: 0.9394\n",
            "Epoch 8/10\n",
            "35000/35000 [==============================] - 53s 2ms/step - loss: 0.1634 - accuracy: 0.9356 - val_loss: 0.1558 - val_accuracy: 0.9388\n",
            "Epoch 9/10\n",
            "35000/35000 [==============================] - 53s 2ms/step - loss: 0.1607 - accuracy: 0.9368 - val_loss: 0.1527 - val_accuracy: 0.9395\n",
            "Epoch 10/10\n",
            "35000/35000 [==============================] - 54s 2ms/step - loss: 0.1583 - accuracy: 0.9380 - val_loss: 0.1534 - val_accuracy: 0.9403\n"
          ],
          "name": "stdout"
        },
        {
          "output_type": "execute_result",
          "data": {
            "text/plain": [
              "<keras.callbacks.callbacks.History at 0x7f8990877978>"
            ]
          },
          "metadata": {
            "tags": []
          },
          "execution_count": 28
        }
      ]
    },
    {
      "cell_type": "code",
      "metadata": {
        "id": "WqNh9M5QLHgX",
        "colab_type": "code",
        "colab": {
          "base_uri": "https://localhost:8080/",
          "height": 1000
        },
        "outputId": "97ebe856-0969-4d35-f6fc-365297b8d904"
      },
      "source": [
        "!tensorboard dev upload --logdir logs"
      ],
      "execution_count": 29,
      "outputs": [
        {
          "output_type": "stream",
          "text": [
            "2020-05-18 17:17:59.849830: I tensorflow/stream_executor/platform/default/dso_loader.cc:44] Successfully opened dynamic library libcudart.so.10.1\n",
            "\n",
            "***** TensorBoard Uploader *****\n",
            "\n",
            "This will upload your TensorBoard logs to https://tensorboard.dev/ from\n",
            "the following directory:\n",
            "\n",
            "logs\n",
            "\n",
            "This TensorBoard will be visible to everyone. Do not upload sensitive\n",
            "data.\n",
            "\n",
            "Your use of this service is subject to Google's Terms of Service\n",
            "<https://policies.google.com/terms> and Privacy Policy\n",
            "<https://policies.google.com/privacy>, and TensorBoard.dev's Terms of Service\n",
            "<https://tensorboard.dev/policy/terms/>.\n",
            "\n",
            "This notice will not be shown again while you are logged into the uploader.\n",
            "To log out, run `tensorboard dev auth revoke`.\n",
            "\n",
            "Continue? (yes/NO) yes\n",
            "\n",
            "Please visit this URL to authorize this application: https://accounts.google.com/o/oauth2/auth?response_type=code&client_id=373649185512-8v619h5kft38l4456nm2dj4ubeqsrvh6.apps.googleusercontent.com&redirect_uri=urn%3Aietf%3Awg%3Aoauth%3A2.0%3Aoob&scope=openid+https%3A%2F%2Fwww.googleapis.com%2Fauth%2Fuserinfo.email&state=4yOUd6PVkAw9BHjAAxii9ojKX10ij6&prompt=consent&access_type=offline\n",
            "Enter the authorization code: 4/zwGldjlj7qWLYL3XvPGbZ-fnTwbfSAjg3uRM4A4JvtRgJTn9OQU-ZfI\n",
            "\n",
            "Data for the \"graphs\" plugin is now uploaded to TensorBoard.dev! Note that uploaded data is public. If you do not want to upload data for this plugin, use the \"--plugins\" command line argument.\n",
            "Upload started and will continue reading any new data as it's added\n",
            "to the logdir. To stop uploading, press Ctrl-C.\n",
            "View your TensorBoard live at: https://tensorboard.dev/experiment/MzagUJEWQRm1rKO4in09jg/\n",
            "E0518 17:18:58.958646 139729716336512 uploader.py:770] Attempted to re-upload existing blob.  Skipping.\n",
            "E0518 17:18:59.923647 139729716336512 uploader.py:770] Attempted to re-upload existing blob.  Skipping.\n",
            "NO\n",
            "\n",
            "Upload stopped. View your TensorBoard at https://tensorboard.dev/experiment/MzagUJEWQRm1rKO4in09jg/\n",
            "Traceback (most recent call last):\n",
            "  File \"/usr/local/bin/tensorboard\", line 8, in <module>\n",
            "    sys.exit(run_main())\n",
            "  File \"/usr/local/lib/python3.6/dist-packages/tensorboard/main.py\", line 75, in run_main\n",
            "    app.run(tensorboard.main, flags_parser=tensorboard.configure)\n",
            "  File \"/usr/local/lib/python3.6/dist-packages/absl/app.py\", line 299, in run\n",
            "    _run_main(main, args)\n",
            "  File \"/usr/local/lib/python3.6/dist-packages/absl/app.py\", line 250, in _run_main\n",
            "    sys.exit(main(argv))\n",
            "  File \"/usr/local/lib/python3.6/dist-packages/tensorboard/program.py\", line 289, in main\n",
            "    return runner(self.flags) or 0\n",
            "  File \"/usr/local/lib/python3.6/dist-packages/tensorboard/uploader/uploader_main.py\", line 633, in run\n",
            "    return _run(flags)\n",
            "  File \"/usr/local/lib/python3.6/dist-packages/tensorboard/uploader/uploader_main.py\", line 163, in _run\n",
            "    intent.execute(server_info, channel)\n",
            "  File \"/usr/local/lib/python3.6/dist-packages/grpc/_channel.py\", line 1433, in __exit__\n",
            "    self._close()\n",
            "  File \"/usr/local/lib/python3.6/dist-packages/grpc/_channel.py\", line 1421, in _close\n",
            "    self._channel.close(cygrpc.StatusCode.cancelled, 'Channel closed!')\n",
            "  File \"src/python/grpcio/grpc/_cython/_cygrpc/channel.pyx.pxi\", line 513, in grpc._cython.cygrpc.Channel.close\n",
            "  File \"src/python/grpcio/grpc/_cython/_cygrpc/channel.pyx.pxi\", line 397, in grpc._cython.cygrpc._close\n",
            "  File \"src/python/grpcio/grpc/_cython/_cygrpc/channel.pyx.pxi\", line 427, in grpc._cython.cygrpc._close\n",
            "  File \"/usr/lib/python3.6/threading.py\", line 357, in notify_all\n",
            "    def notify_all(self):\n",
            "KeyboardInterrupt\n"
          ],
          "name": "stdout"
        }
      ]
    },
    {
      "cell_type": "code",
      "metadata": {
        "id": "s1HgFvy1LJuk",
        "colab_type": "code",
        "colab": {
          "base_uri": "https://localhost:8080/",
          "height": 50
        },
        "outputId": "3812d4ad-0e28-42d6-9abe-835c6316a054"
      },
      "source": [
        "!tensorboard dev update-metadata --name \"Keras_amazonplanet_model\" --description \"Model tuning by using different hyperparameters\""
      ],
      "execution_count": 34,
      "outputs": [
        {
          "output_type": "stream",
          "text": [
            "2020-05-18 17:24:56.079135: I tensorflow/stream_executor/platform/default/dso_loader.cc:44] Successfully opened dynamic library libcudart.so.10.1\n",
            "Error: Must specify experiment to modify via `--experiment_id`.\n"
          ],
          "name": "stdout"
        }
      ]
    },
    {
      "cell_type": "code",
      "metadata": {
        "id": "PpqmVasBrtrU",
        "colab_type": "code",
        "colab": {}
      },
      "source": [
        ""
      ],
      "execution_count": 0,
      "outputs": []
    }
  ]
}