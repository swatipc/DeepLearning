{
  "nbformat": 4,
  "nbformat_minor": 0,
  "metadata": {
    "colab": {
      "name": "Overfit and underfit.ipynb",
      "provenance": []
    },
    "kernelspec": {
      "name": "python3",
      "display_name": "Python 3"
    }
  },
  "cells": [
    {
      "cell_type": "markdown",
      "metadata": {
        "id": "6AiEFM1fLrxR",
        "colab_type": "text"
      },
      "source": [
        "## Overfit and underfit"
      ]
    },
    {
      "cell_type": "markdown",
      "metadata": {
        "id": "twxGu6bVL1bV",
        "colab_type": "text"
      },
      "source": [
        "# Setup"
      ]
    },
    {
      "cell_type": "code",
      "metadata": {
        "id": "KhetK97OLtRU",
        "colab_type": "code",
        "outputId": "3a007c9d-41be-4411-b62a-6e2676917335",
        "colab": {
          "base_uri": "https://localhost:8080/",
          "height": 34
        }
      },
      "source": [
        "import tensorflow as tf\n",
        "\n",
        "from tensorflow.keras import layers\n",
        "from tensorflow.keras import regularizers\n",
        "\n",
        "print(tf.__version__)"
      ],
      "execution_count": 0,
      "outputs": [
        {
          "output_type": "stream",
          "text": [
            "2.2.0\n"
          ],
          "name": "stdout"
        }
      ]
    },
    {
      "cell_type": "code",
      "metadata": {
        "id": "b5rVAhulMXJz",
        "colab_type": "code",
        "outputId": "cf9196b5-39aa-466c-a698-f28c19656e19",
        "colab": {
          "base_uri": "https://localhost:8080/",
          "height": 698
        }
      },
      "source": [
        "!pip install git+https://github.com/tensorflow/docs\n",
        "\n",
        "import tensorflow_docs as tfdocs\n",
        "import tensorflow_docs.modeling\n",
        "import tensorflow_docs.plots"
      ],
      "execution_count": 0,
      "outputs": [
        {
          "output_type": "stream",
          "text": [
            "Collecting git+https://github.com/tensorflow/docs\n",
            "  Cloning https://github.com/tensorflow/docs to /tmp/pip-req-build-jtrbsqfy\n",
            "  Running command git clone -q https://github.com/tensorflow/docs /tmp/pip-req-build-jtrbsqfy\n",
            "Requirement already satisfied: astor in /usr/local/lib/python3.6/dist-packages (from tensorflow-docs===0.0.0dabf76b83baecfcf23243d7bed1dce80bed7883a-) (0.8.1)\n",
            "Requirement already satisfied: absl-py in /usr/local/lib/python3.6/dist-packages (from tensorflow-docs===0.0.0dabf76b83baecfcf23243d7bed1dce80bed7883a-) (0.9.0)\n",
            "Requirement already satisfied: six in /usr/local/lib/python3.6/dist-packages (from tensorflow-docs===0.0.0dabf76b83baecfcf23243d7bed1dce80bed7883a-) (1.12.0)\n",
            "Collecting pathlib2\n",
            "  Downloading https://files.pythonhosted.org/packages/e9/45/9c82d3666af4ef9f221cbb954e1d77ddbb513faf552aea6df5f37f1a4859/pathlib2-2.3.5-py2.py3-none-any.whl\n",
            "Requirement already satisfied: pyyaml in /usr/local/lib/python3.6/dist-packages (from tensorflow-docs===0.0.0dabf76b83baecfcf23243d7bed1dce80bed7883a-) (3.13)\n",
            "Building wheels for collected packages: tensorflow-docs\n",
            "  Building wheel for tensorflow-docs (setup.py) ... \u001b[?25l\u001b[?25hdone\n",
            "  Created wheel for tensorflow-docs: filename=tensorflow_docs-0.0.0dabf76b83baecfcf23243d7bed1dce80bed7883a_-cp36-none-any.whl size=101447 sha256=7f264118f0aad9da4c9a196b66c57e6af8aeabb02c9aae2a6ec7568eada41f03\n",
            "  Stored in directory: /tmp/pip-ephem-wheel-cache-s0hlqft3/wheels/eb/1b/35/fce87697be00d2fc63e0b4b395b0d9c7e391a10e98d9a0d97f\n",
            "Successfully built tensorflow-docs\n",
            "Installing collected packages: pathlib2, tensorflow-docs\n",
            "Successfully installed pathlib2-2.3.5 tensorflow-docs-0.0.0dabf76b83baecfcf23243d7bed1dce80bed7883a-\n"
          ],
          "name": "stdout"
        }
      ]
    },
    {
      "cell_type": "code",
      "metadata": {
        "id": "pwu4b3b3Mhzo",
        "colab_type": "code",
        "colab": {}
      },
      "source": [
        "from  IPython import display\n",
        "from matplotlib import pyplot as plt\n",
        "\n",
        "import numpy as np\n",
        "\n",
        "import pathlib\n",
        "import shutil\n",
        "import tempfile"
      ],
      "execution_count": 0,
      "outputs": []
    },
    {
      "cell_type": "code",
      "metadata": {
        "id": "If4PK4rSM3BY",
        "colab_type": "code",
        "colab": {}
      },
      "source": [
        "logDir = pathlib.Path(tempfile.mkdtemp())/\"tensorboard_logs\"\n",
        "shutil.rmtree(logDir, ignore_errors=True)"
      ],
      "execution_count": 0,
      "outputs": []
    },
    {
      "cell_type": "markdown",
      "metadata": {
        "id": "RpohX_54PCQn",
        "colab_type": "text"
      },
      "source": [
        "# The Higgs Dataset"
      ]
    },
    {
      "cell_type": "code",
      "metadata": {
        "id": "Gnk3FwGmN8vY",
        "colab_type": "code",
        "outputId": "3a227b3a-67ff-419f-b2bc-718c2f9bb596",
        "colab": {
          "base_uri": "https://localhost:8080/",
          "height": 51
        }
      },
      "source": [
        "gz = tf.keras.utils.get_file('HIGGS.csv.gz', 'http://mlphysics.ics.uci.edu/data/higgs/HIGGS.csv.gz')"
      ],
      "execution_count": 0,
      "outputs": [
        {
          "output_type": "stream",
          "text": [
            "Downloading data from http://mlphysics.ics.uci.edu/data/higgs/HIGGS.csv.gz\n",
            "2816409600/2816407858 [==============================] - 60s 0us/step\n"
          ],
          "name": "stdout"
        }
      ]
    },
    {
      "cell_type": "code",
      "metadata": {
        "id": "JjMHVrX6OOsE",
        "colab_type": "code",
        "colab": {}
      },
      "source": [
        "FEATURES = 28"
      ],
      "execution_count": 0,
      "outputs": []
    },
    {
      "cell_type": "code",
      "metadata": {
        "id": "HaaTidAbP705",
        "colab_type": "code",
        "colab": {}
      },
      "source": [
        "ds = tf.data.experimental.CsvDataset(gz,[float(),]*(FEATURES+1), compression_type=\"GZIP\")"
      ],
      "execution_count": 0,
      "outputs": []
    },
    {
      "cell_type": "code",
      "metadata": {
        "id": "JNHYjYibP-IG",
        "colab_type": "code",
        "colab": {}
      },
      "source": [
        "def packRow(*row):\n",
        "  label = row[0]\n",
        "  features = tf.stack(row[1:],1)\n",
        "  return features, label"
      ],
      "execution_count": 0,
      "outputs": []
    },
    {
      "cell_type": "code",
      "metadata": {
        "id": "Q9w_dWAaQef0",
        "colab_type": "code",
        "colab": {}
      },
      "source": [
        "packedDs = ds.batch(10000).map(packRow).unbatch()"
      ],
      "execution_count": 0,
      "outputs": []
    },
    {
      "cell_type": "code",
      "metadata": {
        "id": "GjNmTL-VQslf",
        "colab_type": "code",
        "outputId": "60477e30-8164-411a-d55c-72fde3fe16b3",
        "colab": {
          "base_uri": "https://localhost:8080/",
          "height": 367
        }
      },
      "source": [
        "for features,label in packedDs.batch(1000).take(1):\n",
        "  print(features[0])\n",
        "  plt.hist(features.numpy().flatten(), bins = 101)"
      ],
      "execution_count": 0,
      "outputs": [
        {
          "output_type": "stream",
          "text": [
            "tf.Tensor(\n",
            "[ 0.8692932  -0.6350818   0.22569026  0.32747006 -0.6899932   0.75420225\n",
            " -0.24857314 -1.0920639   0.          1.3749921  -0.6536742   0.9303491\n",
            "  1.1074361   1.1389043  -1.5781983  -1.0469854   0.          0.65792954\n",
            " -0.01045457 -0.04576717  3.1019614   1.35376     0.9795631   0.97807616\n",
            "  0.92000484  0.72165745  0.98875093  0.87667835], shape=(28,), dtype=float32)\n"
          ],
          "name": "stdout"
        },
        {
          "output_type": "display_data",
          "data": {
            "image/png": "[encoded data removed]",
            "text/plain": [
              "<Figure size 432x288 with 1 Axes>"
            ]
          },
          "metadata": {
            "tags": [],
            "needs_background": "light"
          }
        }
      ]
    },
    {
      "cell_type": "code",
      "metadata": {
        "id": "8_WQLb6EQz4r",
        "colab_type": "code",
        "colab": {}
      },
      "source": [
        "N_VALIDATION = int(1e3)\n",
        "N_TRAIN = int(1e4)\n",
        "BUFFER_SIZE = int(1e4)\n",
        "BATCH_SIZE = 500\n",
        "STEPS_PER_EPOCH = N_TRAIN//BATCH_SIZE"
      ],
      "execution_count": 0,
      "outputs": []
    },
    {
      "cell_type": "code",
      "metadata": {
        "id": "SjzNBsLMRyBE",
        "colab_type": "code",
        "colab": {}
      },
      "source": [
        "validateDs = packedDs.take(N_VALIDATION).cache()\n",
        "trainDs = packedDs.skip(N_VALIDATION).take(N_TRAIN).cache()"
      ],
      "execution_count": 0,
      "outputs": []
    },
    {
      "cell_type": "code",
      "metadata": {
        "id": "gmtiS5MPSUQz",
        "colab_type": "code",
        "outputId": "ac12ba24-7468-4b27-a20d-ff0c7a3d00fc",
        "colab": {
          "base_uri": "https://localhost:8080/",
          "height": 34
        }
      },
      "source": [
        "trainDs"
      ],
      "execution_count": 0,
      "outputs": [
        {
          "output_type": "execute_result",
          "data": {
            "text/plain": [
              "<CacheDataset shapes: ((28,), ()), types: (tf.float32, tf.float32)>"
            ]
          },
          "metadata": {
            "tags": []
          },
          "execution_count": 13
        }
      ]
    },
    {
      "cell_type": "code",
      "metadata": {
        "id": "2QBBdBYDSYll",
        "colab_type": "code",
        "colab": {}
      },
      "source": [
        "validateDs = validateDs.batch(BATCH_SIZE)\n",
        "trainDs = trainDs.shuffle(BUFFER_SIZE).repeat().batch(BATCH_SIZE)"
      ],
      "execution_count": 0,
      "outputs": []
    },
    {
      "cell_type": "markdown",
      "metadata": {
        "id": "UhZhBsahSvg8",
        "colab_type": "text"
      },
      "source": [
        "# Demonstrate overfitting"
      ]
    },
    {
      "cell_type": "markdown",
      "metadata": {
        "id": "Fmvbo1cPS1f5",
        "colab_type": "text"
      },
      "source": [
        "# Training procedure"
      ]
    },
    {
      "cell_type": "code",
      "metadata": {
        "id": "xBE6vVSqSq_F",
        "colab_type": "code",
        "colab": {}
      },
      "source": [
        "lrSchedule = tf.keras.optimizers.schedules.InverseTimeDecay(\n",
        "  0.001,\n",
        "  decay_steps=STEPS_PER_EPOCH*1000,\n",
        "  decay_rate=1,\n",
        "  staircase=False)\n",
        "\n",
        "def getOptimizer():\n",
        "  return tf.keras.optimizers.Adam(lrSchedule)"
      ],
      "execution_count": 0,
      "outputs": []
    },
    {
      "cell_type": "code",
      "metadata": {
        "id": "K9KuqOj-Tw71",
        "colab_type": "code",
        "outputId": "d10a95f6-6928-4a24-e560-1f8fc8de8d5c",
        "colab": {
          "base_uri": "https://localhost:8080/",
          "height": 388
        }
      },
      "source": [
        "step = np.linspace(0,100000)\n",
        "lr = lrSchedule(step)\n",
        "plt.figure(figsize = (8,6))\n",
        "plt.plot(step/STEPS_PER_EPOCH, lr)\n",
        "plt.ylim([0,max(plt.ylim())])\n",
        "plt.xlabel('Epoch')\n",
        "_ = plt.ylabel('Learning Rate')"
      ],
      "execution_count": 0,
      "outputs": [
        {
          "output_type": "display_data",
          "data": {
            "image/png": "[encoded data removed]",
            "text/plain": [
              "<Figure size 576x432 with 1 Axes>"
            ]
          },
          "metadata": {
            "tags": [],
            "needs_background": "light"
          }
        }
      ]
    },
    {
      "cell_type": "code",
      "metadata": {
        "id": "5fqYZfmdVE2y",
        "colab_type": "code",
        "colab": {}
      },
      "source": [
        "def getCallbacks(name):\n",
        "  return [\n",
        "    tfdocs.modeling.EpochDots(),\n",
        "    tf.keras.callbacks.EarlyStopping(monitor='val_binary_crossentropy', patience=200),\n",
        "    tf.keras.callbacks.TensorBoard(logDir/name),\n",
        "  ]"
      ],
      "execution_count": 0,
      "outputs": []
    },
    {
      "cell_type": "code",
      "metadata": {
        "id": "JLoXGtkeVa6b",
        "colab_type": "code",
        "colab": {}
      },
      "source": [
        "def compileAndFit(model, name, optimizer=None, max_epochs=5000):\n",
        "  if optimizer is None:\n",
        "    optimizer = getOptimizer()\n",
        "  model.compile(optimizer=optimizer,\n",
        "                loss=tf.keras.losses.BinaryCrossentropy(from_logits=True),\n",
        "                metrics=[\n",
        "                  tf.keras.losses.BinaryCrossentropy(\n",
        "                      from_logits=True, name='binary_crossentropy'),\n",
        "                  'accuracy'])\n",
        "\n",
        "  model.summary()\n",
        "\n",
        "  history = model.fit(\n",
        "    trainDs,\n",
        "    steps_per_epoch = STEPS_PER_EPOCH,\n",
        "    epochs=max_epochs,\n",
        "    validation_data=validateDs,\n",
        "    callbacks=getCallbacks(name),\n",
        "    verbose=0)\n",
        "  return history"
      ],
      "execution_count": 0,
      "outputs": []
    },
    {
      "cell_type": "markdown",
      "metadata": {
        "id": "SE5iuCdqXQCG",
        "colab_type": "text"
      },
      "source": [
        "# Tiny model"
      ]
    },
    {
      "cell_type": "code",
      "metadata": {
        "id": "fcC08SWzXNAg",
        "colab_type": "code",
        "colab": {}
      },
      "source": [
        "tinyModel = tf.keras.Sequential([\n",
        "    layers.Dense(16, activation='elu', input_shape=(FEATURES,)),\n",
        "    layers.Dense(1)\n",
        "])"
      ],
      "execution_count": 0,
      "outputs": []
    },
    {
      "cell_type": "code",
      "metadata": {
        "id": "DXNuhVzWXX5J",
        "colab_type": "code",
        "colab": {}
      },
      "source": [
        "sizeHistory = {}"
      ],
      "execution_count": 0,
      "outputs": []
    },
    {
      "cell_type": "code",
      "metadata": {
        "id": "EyQSvzBJXlwE",
        "colab_type": "code",
        "outputId": "e345436b-4848-426e-bf31-a6dbbb739bec",
        "colab": {
          "base_uri": "https://localhost:8080/",
          "height": 680
        }
      },
      "source": [
        "sizeHistory['Tiny'] = compileAndFit(tinyModel, 'sizes/Tiny')"
      ],
      "execution_count": 0,
      "outputs": [
        {
          "output_type": "stream",
          "text": [
            "Model: \"sequential_2\"\n",
            "_________________________________________________________________\n",
            "Layer (type)                 Output Shape              Param #   \n",
            "=================================================================\n",
            "dense_4 (Dense)              (None, 16)                464       \n",
            "_________________________________________________________________\n",
            "dense_5 (Dense)              (None, 1)                 17        \n",
            "=================================================================\n",
            "Total params: 481\n",
            "Trainable params: 481\n",
            "Non-trainable params: 0\n",
            "_________________________________________________________________\n",
            "\n",
            "Epoch: 0, accuracy:0.5021,  binary_crossentropy:0.7895,  loss:0.7895,  val_accuracy:0.5250,  val_binary_crossentropy:0.7369,  val_loss:0.7369,  \n",
            "....................................................................................................\n",
            "Epoch: 100, accuracy:0.6067,  binary_crossentropy:0.6229,  loss:0.6229,  val_accuracy:0.5830,  val_binary_crossentropy:0.6245,  val_loss:0.6245,  \n",
            "....................................................................................................\n",
            "Epoch: 200, accuracy:0.6266,  binary_crossentropy:0.6089,  loss:0.6089,  val_accuracy:0.6080,  val_binary_crossentropy:0.6117,  val_loss:0.6117,  \n",
            "....................................................................................................\n",
            "Epoch: 300, accuracy:0.6564,  binary_crossentropy:0.5982,  loss:0.5982,  val_accuracy:0.6260,  val_binary_crossentropy:0.6004,  val_loss:0.6004,  \n",
            "....................................................................................................\n",
            "Epoch: 400, accuracy:0.6635,  binary_crossentropy:0.5907,  loss:0.5907,  val_accuracy:0.6380,  val_binary_crossentropy:0.5935,  val_loss:0.5935,  \n",
            "....................................................................................................\n",
            "Epoch: 500, accuracy:0.6730,  binary_crossentropy:0.5856,  loss:0.5856,  val_accuracy:0.6440,  val_binary_crossentropy:0.5901,  val_loss:0.5901,  \n",
            "....................................................................................................\n",
            "Epoch: 600, accuracy:0.6746,  binary_crossentropy:0.5831,  loss:0.5831,  val_accuracy:0.6390,  val_binary_crossentropy:0.5912,  val_loss:0.5912,  \n",
            "....................................................................................................\n",
            "Epoch: 700, accuracy:0.6798,  binary_crossentropy:0.5796,  loss:0.5796,  val_accuracy:0.6570,  val_binary_crossentropy:0.5856,  val_loss:0.5856,  \n",
            "....................................................................................................\n",
            "Epoch: 800, accuracy:0.6802,  binary_crossentropy:0.5772,  loss:0.5772,  val_accuracy:0.6630,  val_binary_crossentropy:0.5841,  val_loss:0.5841,  \n",
            "....................................................................................................\n",
            "Epoch: 900, accuracy:0.6815,  binary_crossentropy:0.5746,  loss:0.5746,  val_accuracy:0.6600,  val_binary_crossentropy:0.5841,  val_loss:0.5841,  \n",
            "....................................................................................................\n",
            "Epoch: 1000, accuracy:0.6847,  binary_crossentropy:0.5732,  loss:0.5732,  val_accuracy:0.6660,  val_binary_crossentropy:0.5826,  val_loss:0.5826,  \n",
            "....................................................................................................\n",
            "Epoch: 1100, accuracy:0.6836,  binary_crossentropy:0.5711,  loss:0.5711,  val_accuracy:0.6650,  val_binary_crossentropy:0.5829,  val_loss:0.5829,  \n",
            "....................................................................................................\n",
            "Epoch: 1200, accuracy:0.6834,  binary_crossentropy:0.5703,  loss:0.5703,  val_accuracy:0.6540,  val_binary_crossentropy:0.5851,  val_loss:0.5851,  \n",
            "."
          ],
          "name": "stdout"
        }
      ]
    },
    {
      "cell_type": "code",
      "metadata": {
        "id": "ykr7dCr0Xxs8",
        "colab_type": "code",
        "colab": {}
      },
      "source": [
        ""
      ],
      "execution_count": 0,
      "outputs": []
    }
  ]
}