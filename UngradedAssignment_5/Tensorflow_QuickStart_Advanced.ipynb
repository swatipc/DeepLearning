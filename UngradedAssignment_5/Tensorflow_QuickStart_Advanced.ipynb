{
  "nbformat": 4,
  "nbformat_minor": 0,
  "metadata": {
    "colab": {
      "name": "Tensorflow_QuickStart_Advanced.ipynb",
      "provenance": []
    },
    "kernelspec": {
      "name": "python3",
      "display_name": "Python 3"
    },
    "accelerator": "TPU"
  },
  "cells": [
    {
      "cell_type": "code",
      "metadata": {
        "id": "94QCTNggkxC4",
        "colab_type": "code",
        "colab": {}
      },
      "source": [
        "# Import required libraries\n",
        "\n",
        "import tensorflow as tf\n",
        "from tensorflow.keras.layers import Dense, Flatten, Conv2D\n",
        "from tensorflow.keras import Model"
      ],
      "execution_count": 0,
      "outputs": []
    },
    {
      "cell_type": "code",
      "metadata": {
        "id": "O4iwR0mGlh8z",
        "colab_type": "code",
        "colab": {
          "base_uri": "https://localhost:8080/",
          "height": 50
        },
        "outputId": "d71cfd1e-5dff-4d35-acd1-202a839e7816"
      },
      "source": [
        "#Load MNIST dataset\n",
        "\n",
        "mnist_ds = tf.keras.datasets.mnist\n",
        "\n",
        "(xtrain, ytrain), (xtest, ytest) = mnist_ds.load_data()\n",
        "xtrain, xtest = xtrain / 255.0, xtest / 255.0\n",
        "\n",
        "# Add dimension of channel\n",
        "xtrain = xtrain[..., tf.newaxis]\n",
        "xtest = xtest[..., tf.newaxis]"
      ],
      "execution_count": 2,
      "outputs": [
        {
          "output_type": "stream",
          "text": [
            "Downloading data from https://storage.googleapis.com/tensorflow/tf-keras-datasets/mnist.npz\n",
            "11493376/11490434 [==============================] - 0s 0us/step\n"
          ],
          "name": "stdout"
        }
      ]
    },
    {
      "cell_type": "code",
      "metadata": {
        "id": "fiJ9mrUwpX4b",
        "colab_type": "code",
        "colab": {}
      },
      "source": [
        "# Shuffle the dataset using tf.data\n",
        "\n",
        "train = tf.data.Dataset.from_tensor_slices(\n",
        "    (xtrain, ytrain)).shuffle(10000).batch(32)\n",
        "\n",
        "test = tf.data.Dataset.from_tensor_slices((xtest, ytest)).batch(32)\n"
      ],
      "execution_count": 0,
      "outputs": []
    },
    {
      "cell_type": "code",
      "metadata": {
        "id": "to7TaMlYp1Cr",
        "colab_type": "code",
        "colab": {}
      },
      "source": [
        "# Build the keras model\n",
        "\n",
        "class My_tf_Model(Model):\n",
        "  def __init__(self):\n",
        "    super(My_tf_Model, self).__init__()\n",
        "    self.conv = Conv2D(32, 3, activation='relu')\n",
        "    self.flatten = Flatten()\n",
        "    self.d1 = Dense(128, activation='relu')\n",
        "    self.d2 = Dense(10)\n",
        "\n",
        "  def call(self, a):\n",
        "    a = self.conv(a)\n",
        "    a = self.flatten(a)\n",
        "    a = self.d1(a)\n",
        "    return self.d2(a)\n",
        "\n",
        "# Create an instance of the model\n",
        "model = My_tf_Model()"
      ],
      "execution_count": 0,
      "outputs": []
    },
    {
      "cell_type": "markdown",
      "metadata": {
        "id": "fiuuS7Lmqt4g",
        "colab_type": "text"
      },
      "source": [
        "Otimizer and loss function for training"
      ]
    },
    {
      "cell_type": "code",
      "metadata": {
        "id": "dkieTM02qZts",
        "colab_type": "code",
        "colab": {}
      },
      "source": [
        "lossObject = tf.keras.losses.SparseCategoricalCrossentropy(from_logits=True)\n",
        "\n",
        "optimizer = tf.keras.optimizers.Adam()"
      ],
      "execution_count": 0,
      "outputs": []
    },
    {
      "cell_type": "markdown",
      "metadata": {
        "id": "DroPvScWq28W",
        "colab_type": "text"
      },
      "source": [
        "Evaluate the model"
      ]
    },
    {
      "cell_type": "code",
      "metadata": {
        "id": "up4F_CJeqjS9",
        "colab_type": "code",
        "colab": {}
      },
      "source": [
        "trainLoss = tf.keras.metrics.Mean(name='trainLoss')\n",
        "trainAccuracy = tf.keras.metrics.SparseCategoricalAccuracy(name='trainAccuracy')\n",
        "\n",
        "testLoss = tf.keras.metrics.Mean(name='testLoss')\n",
        "testAccuracy = tf.keras.metrics.SparseCategoricalAccuracy(name='testAccuracy')"
      ],
      "execution_count": 0,
      "outputs": []
    },
    {
      "cell_type": "markdown",
      "metadata": {
        "id": "AdnK-ofNrKbb",
        "colab_type": "text"
      },
      "source": [
        "Train the model using tf.gradient tape"
      ]
    },
    {
      "cell_type": "code",
      "metadata": {
        "id": "6ejKADMArHAy",
        "colab_type": "code",
        "colab": {}
      },
      "source": [
        "@tf.function\n",
        "def trainStep(image, label):\n",
        "  with tf.GradientTape() as tape:\n",
        "    pred = model(image, training=True)\n",
        "    loss = lossObject(label, pred)\n",
        "  gradient = tape.gradient(loss, model.trainable_variables)\n",
        "  optimizer.apply_gradients(zip(gradient, model.trainable_variables))\n",
        "\n",
        "  trainLoss(loss)\n",
        "  trainAccuracy(label, pred)"
      ],
      "execution_count": 0,
      "outputs": []
    },
    {
      "cell_type": "markdown",
      "metadata": {
        "id": "L4U77tE7rl4n",
        "colab_type": "text"
      },
      "source": [
        "Test the model"
      ]
    },
    {
      "cell_type": "code",
      "metadata": {
        "id": "OSOTEBdprjYl",
        "colab_type": "code",
        "colab": {}
      },
      "source": [
        "@tf.function\n",
        "def testStep(image, label):\n",
        "\n",
        "  pred = model(image, training=False)\n",
        "  tLoss = lossObject(label, pred)\n",
        "\n",
        "  testLoss(tLoss)\n",
        "  testAccuracy(label, pred)"
      ],
      "execution_count": 0,
      "outputs": []
    },
    {
      "cell_type": "code",
      "metadata": {
        "id": "pGnJYMt_tCz9",
        "colab_type": "code",
        "colab": {
          "base_uri": "https://localhost:8080/",
          "height": 185
        },
        "outputId": "e70e8cff-f5ad-4a17-f507-881536e1bcff"
      },
      "source": [
        "epoch = 10\n",
        "\n",
        "for epoch in range(epoch):\n",
        "  # Reset the metrics at the start of the next epoch\n",
        "  trainLoss.reset_states()\n",
        "  trainAccuracy.reset_states()\n",
        "  testLoss.reset_states()\n",
        "  testAccuracy.reset_states()\n",
        "\n",
        "  for image, label in train:\n",
        "    trainStep(image, label)\n",
        "\n",
        "  for testImage, testLabel in test:\n",
        "    testStep(testImage, testLabel)\n",
        "\n",
        "  template = 'Epoch {}, Loss: {}, Accuracy: {}, Test Loss: {}, Test Accuracy: {}'\n",
        "  print(template.format(epoch + 1,\n",
        "                        trainLoss.result(),\n",
        "                        trainAccuracy.result() * 100,\n",
        "                        testLoss.result(),\n",
        "                        testAccuracy.result() * 100))"
      ],
      "execution_count": 11,
      "outputs": [
        {
          "output_type": "stream",
          "text": [
            "Epoch 1, Loss: 0.043748099356889725, Accuracy: 98.66166687011719, Test Loss: 0.053835853934288025, Test Accuracy: 98.22000122070312\n",
            "Epoch 2, Loss: 0.022416623309254646, Accuracy: 99.26499938964844, Test Loss: 0.0506158173084259, Test Accuracy: 98.33999633789062\n",
            "Epoch 3, Loss: 0.012980688363313675, Accuracy: 99.5633316040039, Test Loss: 0.0650545284152031, Test Accuracy: 98.13999938964844\n",
            "Epoch 4, Loss: 0.009142785333096981, Accuracy: 99.6883316040039, Test Loss: 0.06806790083646774, Test Accuracy: 98.37999725341797\n",
            "Epoch 5, Loss: 0.0069343335926532745, Accuracy: 99.76166534423828, Test Loss: 0.06270670890808105, Test Accuracy: 98.4000015258789\n",
            "Epoch 6, Loss: 0.005146103445440531, Accuracy: 99.83999633789062, Test Loss: 0.0748978853225708, Test Accuracy: 98.19999694824219\n",
            "Epoch 7, Loss: 0.004850856028497219, Accuracy: 99.81999969482422, Test Loss: 0.06857401132583618, Test Accuracy: 98.36000061035156\n",
            "Epoch 8, Loss: 0.0025050928816199303, Accuracy: 99.93499755859375, Test Loss: 0.14544136822223663, Test Accuracy: 97.5199966430664\n",
            "Epoch 9, Loss: 0.00435507670044899, Accuracy: 99.86499786376953, Test Loss: 0.08475003391504288, Test Accuracy: 98.2699966430664\n",
            "Epoch 10, Loss: 0.00374916335567832, Accuracy: 99.88333892822266, Test Loss: 0.08821015805006027, Test Accuracy: 98.19999694824219\n"
          ],
          "name": "stdout"
        }
      ]
    },
    {
      "cell_type": "code",
      "metadata": {
        "id": "EViz0kRlt3o0",
        "colab_type": "code",
        "colab": {}
      },
      "source": [
        ""
      ],
      "execution_count": 0,
      "outputs": []
    }
  ]
}