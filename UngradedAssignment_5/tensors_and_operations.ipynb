{
  "nbformat": 4,
  "nbformat_minor": 0,
  "metadata": {
    "colab": {
      "name": "tensors_and_operations.ipynb",
      "provenance": []
    },
    "kernelspec": {
      "name": "python3",
      "display_name": "Python 3"
    }
  },
  "cells": [
    {
      "cell_type": "code",
      "metadata": {
        "id": "rzC0BBOPEWuQ",
        "colab_type": "code",
        "colab": {
          "base_uri": "https://localhost:8080/",
          "height": 102
        },
        "outputId": "7b79bf73-56a5-411c-cca3-37d41ea87901"
      },
      "source": [
        "import tensorflow as tf\n",
        "print(tf.add(3, 2))\n",
        "print(tf.add([3, 2], [3, 4]))\n",
        "print(tf.square(6))\n",
        "print(tf.reduce_sum([2, 1, 3]))\n",
        "print(tf.square(2) + tf.square(3))"
      ],
      "execution_count": 19,
      "outputs": [
        {
          "output_type": "stream",
          "text": [
            "tf.Tensor(5, shape=(), dtype=int32)\n",
            "tf.Tensor([6 6], shape=(2,), dtype=int32)\n",
            "tf.Tensor(36, shape=(), dtype=int32)\n",
            "tf.Tensor(6, shape=(), dtype=int32)\n",
            "tf.Tensor(13, shape=(), dtype=int32)\n"
          ],
          "name": "stdout"
        }
      ]
    },
    {
      "cell_type": "code",
      "metadata": {
        "id": "q34udBDkEsPI",
        "colab_type": "code",
        "colab": {
          "base_uri": "https://localhost:8080/",
          "height": 68
        },
        "outputId": "9225c1f3-47e6-4d47-d13a-e7efdbc67cf8"
      },
      "source": [
        "tmp = tf.matmul([[1]], [[2, 3]])\n",
        "print(tmp)\n",
        "print(tmp.shape)\n",
        "print(tmp.dtype)"
      ],
      "execution_count": 20,
      "outputs": [
        {
          "output_type": "stream",
          "text": [
            "tf.Tensor([[2 3]], shape=(1, 2), dtype=int32)\n",
            "(1, 2)\n",
            "<dtype: 'int32'>\n"
          ],
          "name": "stdout"
        }
      ]
    },
    {
      "cell_type": "code",
      "metadata": {
        "id": "b30qIpCzE-UU",
        "colab_type": "code",
        "colab": {
          "base_uri": "https://localhost:8080/",
          "height": 544
        },
        "outputId": "ad6fb8b1-8dc8-4e4b-8c5b-b0b43bb6f5bc"
      },
      "source": [
        "import numpy as np\n",
        "arr = np.ones([9, 8])\n",
        "print(\"numpy array -> Tensors\")\n",
        "tensor = tf.multiply(arr, 42)\n",
        "print(tensor)\n",
        "print(\"Tensors -> numpy array method 1\")\n",
        "print(np.add(tensor, 1))\n",
        "print(\"Tensor -> numpy array method 2\")\n",
        "print(tensor.numpy())"
      ],
      "execution_count": 21,
      "outputs": [
        {
          "output_type": "stream",
          "text": [
            "numpy array -> Tensors\n",
            "tf.Tensor(\n",
            "[[42. 42. 42. 42. 42. 42. 42. 42.]\n",
            " [42. 42. 42. 42. 42. 42. 42. 42.]\n",
            " [42. 42. 42. 42. 42. 42. 42. 42.]\n",
            " [42. 42. 42. 42. 42. 42. 42. 42.]\n",
            " [42. 42. 42. 42. 42. 42. 42. 42.]\n",
            " [42. 42. 42. 42. 42. 42. 42. 42.]\n",
            " [42. 42. 42. 42. 42. 42. 42. 42.]\n",
            " [42. 42. 42. 42. 42. 42. 42. 42.]\n",
            " [42. 42. 42. 42. 42. 42. 42. 42.]], shape=(9, 8), dtype=float64)\n",
            "Tensors -> numpy array method 1\n",
            "[[43. 43. 43. 43. 43. 43. 43. 43.]\n",
            " [43. 43. 43. 43. 43. 43. 43. 43.]\n",
            " [43. 43. 43. 43. 43. 43. 43. 43.]\n",
            " [43. 43. 43. 43. 43. 43. 43. 43.]\n",
            " [43. 43. 43. 43. 43. 43. 43. 43.]\n",
            " [43. 43. 43. 43. 43. 43. 43. 43.]\n",
            " [43. 43. 43. 43. 43. 43. 43. 43.]\n",
            " [43. 43. 43. 43. 43. 43. 43. 43.]\n",
            " [43. 43. 43. 43. 43. 43. 43. 43.]]\n",
            "Tensor -> numpy array method 2\n",
            "[[42. 42. 42. 42. 42. 42. 42. 42.]\n",
            " [42. 42. 42. 42. 42. 42. 42. 42.]\n",
            " [42. 42. 42. 42. 42. 42. 42. 42.]\n",
            " [42. 42. 42. 42. 42. 42. 42. 42.]\n",
            " [42. 42. 42. 42. 42. 42. 42. 42.]\n",
            " [42. 42. 42. 42. 42. 42. 42. 42.]\n",
            " [42. 42. 42. 42. 42. 42. 42. 42.]\n",
            " [42. 42. 42. 42. 42. 42. 42. 42.]\n",
            " [42. 42. 42. 42. 42. 42. 42. 42.]]\n"
          ],
          "name": "stdout"
        }
      ]
    },
    {
      "cell_type": "code",
      "metadata": {
        "id": "x-u-w29NFc4v",
        "colab_type": "code",
        "colab": {
          "base_uri": "https://localhost:8080/",
          "height": 85
        },
        "outputId": "f44f1f1f-cea7-4619-b48f-64dbc43d1aca"
      },
      "source": [
        "tmp = tf.random.uniform([9, 8])\n",
        "print(\"GPU available: \"),\n",
        "print(tf.config.experimental.list_physical_devices(\"GPU\"))\n",
        "print(\"Tensor on GPU #0:  \"),\n",
        "print(tmp.device.endswith('GPU:0'))"
      ],
      "execution_count": 22,
      "outputs": [
        {
          "output_type": "stream",
          "text": [
            "GPU available: \n",
            "[]\n",
            "Tensor on GPU #0:  \n",
            "False\n"
          ],
          "name": "stdout"
        }
      ]
    },
    {
      "cell_type": "code",
      "metadata": {
        "id": "our4Lq2LFpTY",
        "colab_type": "code",
        "colab": {
          "base_uri": "https://localhost:8080/",
          "height": 51
        },
        "outputId": "44f02b11-ac6a-4ee4-9172-a03a3239dc12"
      },
      "source": [
        "import time\n",
        "\n",
        "def time_matmul(y):\n",
        "  start = time.time()\n",
        "  for loop in range(10):\n",
        "    tf.matmul(y, y)\n",
        "  result = time.time()-start\n",
        "  print(\"10 loops: {:0.2f}ms\".format(1000*result))\n",
        "\n",
        "# Forcing execution on CPU\n",
        "print(\"On CPU:\")\n",
        "with tf.device(\"CPU:0\"):\n",
        "  y = tf.random.uniform([1000, 1000])\n",
        "  assert y.device.endswith(\"CPU:0\")\n",
        "  time_matmul(y)\n",
        "\n",
        "# Forcing execution on GPU #0 if available\n",
        "if tf.config.experimental.list_physical_devices(\"GPU\"):\n",
        "  print(\"On GPU:\")\n",
        "  with tf.device(\"GPU:0\"): # Or GPU:1 for the 2nd GPU, GPU:2 for the 3rd etc.\n",
        "    y = tf.random.uniform([1000, 1000])\n",
        "    assert y.device.endswith(\"GPU:0\")\n",
        "    time_matmul(y)"
      ],
      "execution_count": 23,
      "outputs": [
        {
          "output_type": "stream",
          "text": [
            "On CPU:\n",
            "10 loops: 329.03ms\n"
          ],
          "name": "stdout"
        }
      ]
    },
    {
      "cell_type": "code",
      "metadata": {
        "id": "pqHSYvtTF_np",
        "colab_type": "code",
        "colab": {
          "base_uri": "https://localhost:8080/",
          "height": 170
        },
        "outputId": "bf31cb6b-ab50-44b2-c55b-d3ccb3bbff7d"
      },
      "source": [
        "dataset_tensors = tf.data.Dataset.from_tensor_slices([1, 2, 3, 4, 5, 6])\n",
        "import tempfile\n",
        "_, file = tempfile.mkstemp()\n",
        "with open(file, 'w') as f:\n",
        "  f.write(\"\"\"Line 1\n",
        "Line 2\n",
        "Line 3\n",
        "  \"\"\")\n",
        "dataset_file = tf.data.TextLineDataset(file)\n",
        "dataset_tensors = dataset_tensors.map(tf.square).shuffle(2).batch(2)\n",
        "dataset_file = dataset_file.batch(2)\n",
        "\n",
        "print('dataset_tensors:')\n",
        "for t in dataset_tensors:\n",
        "  print(t)\n",
        "print(\"\\n\")\n",
        "print('dataset_file:')\n",
        "for l in dataset_file:\n",
        "  print(l)"
      ],
      "execution_count": 24,
      "outputs": [
        {
          "output_type": "stream",
          "text": [
            "dataset_tensors:\n",
            "tf.Tensor([4 1], shape=(2,), dtype=int32)\n",
            "tf.Tensor([16 25], shape=(2,), dtype=int32)\n",
            "tf.Tensor([36  9], shape=(2,), dtype=int32)\n",
            "\n",
            "\n",
            "dataset_file:\n",
            "tf.Tensor([b'Line 1' b'Line 2'], shape=(2,), dtype=string)\n",
            "tf.Tensor([b'Line 3' b'  '], shape=(2,), dtype=string)\n"
          ],
          "name": "stdout"
        }
      ]
    }
  ]
}