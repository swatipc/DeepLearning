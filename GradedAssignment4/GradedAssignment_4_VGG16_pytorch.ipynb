{
  "nbformat": 4,
  "nbformat_minor": 0,
  "metadata": {
    "colab": {
      "name": "GradedAssignment_4_VGG16_pytorch.ipynb",
      "provenance": []
    },
    "kernelspec": {
      "name": "python3",
      "display_name": "Python 3"
    }
  },
  "cells": [
    {
      "cell_type": "markdown",
      "metadata": {
        "id": "64fkNDNI_DL9",
        "colab_type": "text"
      },
      "source": [
        "Importing Required Libraries"
      ]
    },
    {
      "cell_type": "code",
      "metadata": {
        "id": "svcl7qSI_G5S",
        "colab_type": "code",
        "colab": {}
      },
      "source": [
        "# Import required libraries \n",
        "\n",
        "from torch.optim.lr_scheduler import _LRScheduler\n",
        "import torchvision.transforms as transforms\n",
        "from torch.utils.data import DataLoader\n",
        "from torch.nn import CrossEntropyLoss\n",
        "from torch.autograd import Variable\n",
        "from torch.optim import SGD\n",
        "import torch.optim as optim\n",
        "import torch.nn as nn\n",
        "import torchvision\n",
        "import numpy as np\n",
        "import torch\n"
      ],
      "execution_count": 0,
      "outputs": []
    },
    {
      "cell_type": "markdown",
      "metadata": {
        "id": "NY0zHodk_LBU",
        "colab_type": "text"
      },
      "source": [
        "Architecture in Class"
      ]
    },
    {
      "cell_type": "code",
      "metadata": {
        "id": "TgLrhPOv-3BK",
        "colab_type": "code",
        "colab": {}
      },
      "source": [
        "cfg = {    \n",
        "    'D' : [64, 64, 'M', 128, 128, 'M', 256, 256, 256, 'M', 512, 512, 512, 'M', 512, 512, 512, 'M']\n",
        "}\n",
        "\n",
        "class VGG16(nn.Module):\n",
        "    def __init__(self, features, num_class=100):\n",
        "        super().__init__()\n",
        "        self.features = features\n",
        "\n",
        "        self.classifier = nn.Sequential(\n",
        "            nn.Linear(512, 4096),\n",
        "            nn.ReLU(inplace=True),\n",
        "            nn.Dropout(),\n",
        "            nn.Linear(4096, 4096),\n",
        "            nn.ReLU(inplace=True),\n",
        "            nn.Dropout(),\n",
        "            nn.Linear(4096, num_class)\n",
        "        )\n",
        "\n",
        "    def forward(self, X):\n",
        "        op = self.features(X)\n",
        "        op = op.view(op.size()[0], -1)\n",
        "        op = self.classifier(op)\n",
        "    \n",
        "        return op"
      ],
      "execution_count": 0,
      "outputs": []
    },
    {
      "cell_type": "code",
      "metadata": {
        "id": "XUoKmSP3_AF3",
        "colab_type": "code",
        "colab": {}
      },
      "source": [
        "def create_layers(cfg, batch_norm=False):\n",
        "    layers_list = []\n",
        "\n",
        "    input_channel = 3\n",
        "    for n in cfg:\n",
        "        if n == 'M':\n",
        "            layers_list += [nn.MaxPool2d(kernel_size=2, stride=2)]\n",
        "            continue\n",
        "\n",
        "        layers_list += [nn.Conv2d(input_channel, n, kernel_size=3, padding=1)]\n",
        "\n",
        "        if batch_norm:\n",
        "            layers_list += [nn.BatchNorm2d(n)]\n",
        "        \n",
        "        layers_list += [nn.ReLU(inplace=True)]\n",
        "        input_channel = n\n",
        "    \n",
        "    return nn.Sequential(*layers_list)"
      ],
      "execution_count": 0,
      "outputs": []
    },
    {
      "cell_type": "code",
      "metadata": {
        "id": "ihcgmDvx_Rud",
        "colab_type": "code",
        "colab": {}
      },
      "source": [
        "def vgg16_bn():\n",
        "    return VGG16(create_layers(cfg['D'], batch_norm=True))"
      ],
      "execution_count": 0,
      "outputs": []
    },
    {
      "cell_type": "markdown",
      "metadata": {
        "id": "pYDWwtuD_bOs",
        "colab_type": "text"
      },
      "source": [
        "Get CIFAR 100 dataset"
      ]
    },
    {
      "cell_type": "code",
      "metadata": {
        "id": "4LZd1Ww1_W7a",
        "colab_type": "code",
        "colab": {}
      },
      "source": [
        "def get_dataloader(batch_size=16, num_workers=2, shuffle=True):\n",
        "    transform = transforms.Compose([\n",
        "        transforms.RandomCrop(32, padding=4),\n",
        "        transforms.RandomHorizontalFlip(),\n",
        "        transforms.RandomRotation(15),\n",
        "        transforms.ToTensor()\n",
        "    ])\n",
        "\n",
        "    cifar100_training = torchvision.datasets.CIFAR100(root='./data', train=True, download=True, transform=transform)\n",
        "    cifar100_training_loader = DataLoader(\n",
        "        cifar100_training, shuffle=shuffle, num_workers=num_workers, batch_size=batch_size)\n",
        "\n",
        "    return cifar100_training_loader\n"
      ],
      "execution_count": 0,
      "outputs": []
    },
    {
      "cell_type": "markdown",
      "metadata": {
        "id": "cfZ6BMMk_kRp",
        "colab_type": "text"
      },
      "source": [
        "Get CIFAR 100 test dataset"
      ]
    },
    {
      "cell_type": "code",
      "metadata": {
        "id": "gb-c_zbK_fDi",
        "colab_type": "code",
        "colab": {}
      },
      "source": [
        "def get_test_dataloader(batch_size=16, num_workers=2, shuffle=True):\n",
        "    transform = transforms.Compose([\n",
        "        transforms.ToTensor()\n",
        "    ])\n",
        "\n",
        "    cifar100_test = torchvision.datasets.CIFAR100(root='./data', train=False, download=True, transform=transform)\n",
        "    cifar100_test_loader = DataLoader(\n",
        "        cifar100_test, shuffle=shuffle, num_workers=num_workers, batch_size=batch_size)\n",
        "\n",
        "    return cifar100_test_loader"
      ],
      "execution_count": 0,
      "outputs": []
    },
    {
      "cell_type": "code",
      "metadata": {
        "id": "4sfnZ_3B_mlK",
        "colab_type": "code",
        "outputId": "3fda844d-57ac-40c5-c185-d2726c71fda4",
        "colab": {
          "base_uri": "https://localhost:8080/",
          "height": 34
        }
      },
      "source": [
        "train_loader = get_dataloader(num_workers=2, batch_size=128)"
      ],
      "execution_count": 31,
      "outputs": [
        {
          "output_type": "stream",
          "text": [
            "Files already downloaded and verified\n"
          ],
          "name": "stdout"
        }
      ]
    },
    {
      "cell_type": "code",
      "metadata": {
        "id": "djyn4rQm_sko",
        "colab_type": "code",
        "outputId": "68de2dea-899b-4167-bb69-0e1cf3667f56",
        "colab": {
          "base_uri": "https://localhost:8080/",
          "height": 34
        }
      },
      "source": [
        "test_loader = get_test_dataloader(num_workers=2, batch_size=128)"
      ],
      "execution_count": 32,
      "outputs": [
        {
          "output_type": "stream",
          "text": [
            "Files already downloaded and verified\n"
          ],
          "name": "stdout"
        }
      ]
    },
    {
      "cell_type": "code",
      "metadata": {
        "id": "Qs6iEjyA_v3V",
        "colab_type": "code",
        "colab": {}
      },
      "source": [
        "vggnet = vgg16_bn()"
      ],
      "execution_count": 0,
      "outputs": []
    },
    {
      "cell_type": "code",
      "metadata": {
        "id": "jB1yWPbG_x_P",
        "colab_type": "code",
        "outputId": "9bf5c276-df63-4a05-c2d4-824900bfcc0d",
        "colab": {
          "base_uri": "https://localhost:8080/",
          "height": 34
        }
      },
      "source": [
        "device = torch.device(\"cuda:0\" if torch.cuda.is_available() else \"cpu\")\n",
        "print(device)"
      ],
      "execution_count": 34,
      "outputs": [
        {
          "output_type": "stream",
          "text": [
            "cpu\n"
          ],
          "name": "stdout"
        }
      ]
    },
    {
      "cell_type": "code",
      "metadata": {
        "id": "kFYFthhBARRq",
        "colab_type": "code",
        "colab": {}
      },
      "source": [
        "use_gpu = torch.cuda.is_available()\n",
        "if use_gpu:\n",
        "    vggnet = vggnet.to(device)"
      ],
      "execution_count": 0,
      "outputs": []
    },
    {
      "cell_type": "code",
      "metadata": {
        "id": "4Mi6HaJDAVVn",
        "colab_type": "code",
        "colab": {}
      },
      "source": [
        "criterion = nn.CrossEntropyLoss()\n",
        "optimizer = optim.SGD(vggnet.parameters(), lr=0.001, momentum=0.9)"
      ],
      "execution_count": 0,
      "outputs": []
    },
    {
      "cell_type": "code",
      "metadata": {
        "id": "Cc83OPAvAaun",
        "colab_type": "code",
        "colab": {}
      },
      "source": [
        "# Train model\n",
        "for epochs in range(2):  # loop over the dataset multiple times\n",
        "    running_loss = 0.0\n",
        "    for i, data in enumerate(train_loader, 0):\n",
        "        # get the inputs; data is a list of [inputs, labels]\n",
        "        inputs, labels = data[0].to(device), data[1].to(device)\n",
        "        # zero the parameter gradients\n",
        "        optimizer.zero_grad()\n",
        "        outputs = vggnet(inputs)\n",
        "        loss = criterion(outputs, labels)\n",
        "        loss.backward()\n",
        "        optimizer.step()\n",
        "\n",
        "        # print statistics\n",
        "        running_loss += loss.item()\n",
        "        if i % 2000 == 1999:    # print every 2000 mini-batches\n",
        "            print('[%d, %5d] loss: %.3f' %\n",
        "                  (epoch + 1, i + 1, running_loss / 2000))\n",
        "            running_loss = 0.0\n",
        "\n",
        "print('Finished Training!')"
      ],
      "execution_count": 0,
      "outputs": []
    },
    {
      "cell_type": "code",
      "metadata": {
        "id": "FPnw_-BwAdj8",
        "colab_type": "code",
        "colab": {}
      },
      "source": [
        "PATH = './cifar_net.pth'\n",
        "torch.save(net.state_dict(), PATH)"
      ],
      "execution_count": 0,
      "outputs": []
    },
    {
      "cell_type": "code",
      "metadata": {
        "id": "p3NfObD8AjB7",
        "colab_type": "code",
        "outputId": "1cb026e2-fa26-44c7-9006-09f77675b229",
        "colab": {
          "base_uri": "https://localhost:8080/",
          "height": 34
        }
      },
      "source": [
        "dataiter = iter(test_loader)\n",
        "images, label = dataiter.next()\n",
        "# print images\n",
        "print('Ground Truth: ', ' '.join('%5s' % label[j] for j in range(4)))"
      ],
      "execution_count": 0,
      "outputs": [
        {
          "output_type": "stream",
          "text": [
            "GroundTruth:  tensor(55) tensor(19) tensor(68) tensor(16)\n"
          ],
          "name": "stdout"
        }
      ]
    },
    {
      "cell_type": "code",
      "metadata": {
        "id": "f2Q7S-WKAlwy",
        "colab_type": "code",
        "outputId": "06248eec-b1b7-45a1-f08d-7d601a957b86",
        "colab": {
          "base_uri": "https://localhost:8080/",
          "height": 34
        }
      },
      "source": [
        "vggnet.load_state_dict(torch.load(PATH))"
      ],
      "execution_count": 0,
      "outputs": [
        {
          "output_type": "execute_result",
          "data": {
            "text/plain": [
              "<All keys matched successfully>"
            ]
          },
          "metadata": {
            "tags": []
          },
          "execution_count": 40
        }
      ]
    },
    {
      "cell_type": "code",
      "metadata": {
        "id": "vaXKfpg3Aovw",
        "colab_type": "code",
        "colab": {}
      },
      "source": [
        "output = vggnet(images.to(device))"
      ],
      "execution_count": 0,
      "outputs": []
    },
    {
      "cell_type": "code",
      "metadata": {
        "id": "4Rk-4gEsArG4",
        "colab_type": "code",
        "outputId": "ca263270-145b-4877-f398-1943fb6d372c",
        "colab": {
          "base_uri": "https://localhost:8080/",
          "height": 34
        }
      },
      "source": [
        "_, predicted = torch.max(output, 1)\n",
        "print('Predicted: ', (predicted[j] for j in range(4)))"
      ],
      "execution_count": 0,
      "outputs": [
        {
          "output_type": "stream",
          "text": [
            "Predicted:  <generator object <genexpr> at 0x7f7a74112ca8>\n"
          ],
          "name": "stdout"
        }
      ]
    },
    {
      "cell_type": "code",
      "metadata": {
        "id": "VPTHxF8mAuIR",
        "colab_type": "code",
        "outputId": "86798cad-2f88-4602-8fd3-3358220560e6",
        "colab": {
          "base_uri": "https://localhost:8080/",
          "height": 34
        }
      },
      "source": [
        "#Evaluating on test data\n",
        "correct = 0\n",
        "total = 0\n",
        "with torch.no_grad():\n",
        "    for data in test_loader:\n",
        "        #images, labels = data\n",
        "        images, labels = data[0].to(device), data[1].to(device)\n",
        "        outputs = net(images)\n",
        "        _, predicted = torch.max(outputs.data, 1)\n",
        "        total += labels.size(0)\n",
        "        correct += (predicted == labels).sum().item()\n",
        "\n",
        "print('Accuracy on test images is {} %'.format(100 * correct / total))"
      ],
      "execution_count": 0,
      "outputs": [
        {
          "output_type": "stream",
          "text": [
            "Accuracy of the network on the 10000 test images: 12 %\n"
          ],
          "name": "stdout"
        }
      ]
    },
    {
      "cell_type": "code",
      "metadata": {
        "id": "vRGDJnziYJXd",
        "colab_type": "code",
        "colab": {}
      },
      "source": [
        ""
      ],
      "execution_count": 0,
      "outputs": []
    }
  ]
}