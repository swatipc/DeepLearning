{
  "nbformat": 4,
  "nbformat_minor": 0,
  "metadata": {
    "colab": {
      "name": "GradedAssignment_4_VGG16_Cifar100.ipynb.ipynb",
      "provenance": []
    },
    "kernelspec": {
      "name": "python3",
      "display_name": "Python 3"
    }
  },
  "cells": [
    {
      "cell_type": "code",
      "metadata": {
        "id": "QR77rmKaBPAE",
        "colab_type": "code",
        "outputId": "93b53d5e-8236-48e9-a6f4-b28725119f71",
        "colab": {
          "base_uri": "https://localhost:8080/",
          "height": 34
        }
      },
      "source": [
        "import tensorflow.keras as keras\n",
        "from keras.models import Sequential\n",
        "from keras.layers import Dense, Conv2D, MaxPool2D , Flatten\n",
        "from keras.preprocessing.image import ImageDataGenerator\n",
        "from keras.datasets import cifar100\n",
        "from keras.optimizers import Adam\n",
        "from keras.utils import to_categorical\n",
        "import numpy as np\n",
        "import time\n",
        "import datetime\n",
        "from keras.callbacks import TensorBoard\n",
        "%load_ext tensorboard"
      ],
      "execution_count": 1,
      "outputs": [
        {
          "output_type": "stream",
          "text": [
            "Using TensorFlow backend.\n"
          ],
          "name": "stderr"
        }
      ]
    },
    {
      "cell_type": "code",
      "metadata": {
        "id": "xRzTIjU0BqBY",
        "colab_type": "code",
        "outputId": "3e91967d-655a-423d-e487-1ba65c63568b",
        "colab": {
          "base_uri": "https://localhost:8080/",
          "height": 50
        }
      },
      "source": [
        "(xTrain, yTrain), (xTest, yTest) = cifar100.load_data()"
      ],
      "execution_count": 3,
      "outputs": [
        {
          "output_type": "stream",
          "text": [
            "Downloading data from https://www.cs.toronto.edu/~kriz/cifar-100-python.tar.gz\n",
            "169009152/169001437 [==============================] - 3s 0us/step\n"
          ],
          "name": "stdout"
        }
      ]
    },
    {
      "cell_type": "code",
      "metadata": {
        "id": "Uk_A-5gLBzwh",
        "colab_type": "code",
        "outputId": "44ab6b4c-7b7b-4dce-e0a5-51478399573d",
        "colab": {
          "base_uri": "https://localhost:8080/",
          "height": 84
        }
      },
      "source": [
        "# Checking the shape of test and train\n",
        "print(\"Shape of xTrain: {}\".format(xTrain.shape))\n",
        "print(\"Shape of yTrain: {}\".format(yTrain.shape))\n",
        "print(\"Shape of xTest: {}\".format(xTest.shape))\n",
        "print(\"Shape of yTest: {}\".format(yTest.shape))"
      ],
      "execution_count": 4,
      "outputs": [
        {
          "output_type": "stream",
          "text": [
            "Shape of xTrain: (50000, 32, 32, 3)\n",
            "Shape of yTrain: (50000, 1)\n",
            "Shape of xTest: (10000, 32, 32, 3)\n",
            "Shape of yTest: (10000, 1)\n"
          ],
          "name": "stdout"
        }
      ]
    },
    {
      "cell_type": "markdown",
      "metadata": {
        "id": "BIBb5l33B6k7",
        "colab_type": "text"
      },
      "source": [
        "One Hot Encoding"
      ]
    },
    {
      "cell_type": "code",
      "metadata": {
        "id": "SdHcuKtZB2Qp",
        "colab_type": "code",
        "colab": {}
      },
      "source": [
        "yTrain = to_categorical(yTrain, 100)\n",
        "yTest = to_categorical(yTest, 100)"
      ],
      "execution_count": 0,
      "outputs": []
    },
    {
      "cell_type": "markdown",
      "metadata": {
        "id": "0HAe8YKiqqef",
        "colab_type": "text"
      },
      "source": [
        "Train the model"
      ]
    },
    {
      "cell_type": "code",
      "metadata": {
        "id": "bheqbVFzCEe0",
        "colab_type": "code",
        "colab": {}
      },
      "source": [
        "\n",
        "model = Sequential()\n",
        "\n",
        "model.add(Conv2D(input_shape=(32,32,3),filters=32,kernel_size=(3,3),padding=\"same\", activation=\"relu\"))\n",
        "model.add(Conv2D(filters=32,kernel_size=(3,3),padding=\"same\", activation=\"relu\"))\n",
        "model.add(MaxPool2D(pool_size=(2,2),strides=(2,2)))\n",
        "\n",
        "model.add(Conv2D(filters=64, kernel_size=(3,3), padding=\"same\", activation=\"relu\"))\n",
        "model.add(Conv2D(filters=64, kernel_size=(3,3), padding=\"same\", activation=\"relu\"))\n",
        "model.add(MaxPool2D(pool_size=(2,2),strides=(2,2)))\n",
        "\n",
        "model.add(Conv2D(filters=128, kernel_size=(3,3), padding=\"same\", activation=\"relu\"))\n",
        "model.add(Conv2D(filters=128, kernel_size=(3,3), padding=\"same\", activation=\"relu\"))\n",
        "model.add(MaxPool2D(pool_size=(2,2),strides=(2,2)))\n",
        "\n",
        "model.add(Conv2D(filters=256, kernel_size=(3,3), padding=\"same\", activation=\"relu\"))\n",
        "model.add(Conv2D(filters=256, kernel_size=(3,3), padding=\"same\", activation=\"relu\"))\n",
        "model.add(MaxPool2D(pool_size=(2,2),strides=(2,2)))\n",
        "\n",
        "model.add(Conv2D(filters=512, kernel_size=(3,3), padding=\"same\", activation=\"relu\"))\n",
        "model.add(Conv2D(filters=512, kernel_size=(3,3), padding=\"same\", activation=\"relu\"))\n",
        "model.add(MaxPool2D(pool_size=(2,2),strides=(2,2)))\n",
        "\n",
        "model.add(Flatten())\n",
        "model.add(Dense(units=4096,activation=\"relu\"))\n",
        "model.add(Dense(units=4096,activation=\"relu\"))\n",
        "model.add(Dense(units=100, activation=\"softmax\"))"
      ],
      "execution_count": 0,
      "outputs": []
    },
    {
      "cell_type": "markdown",
      "metadata": {
        "id": "dAURTgY2COK0",
        "colab_type": "text"
      },
      "source": [
        "Compile the model"
      ]
    },
    {
      "cell_type": "code",
      "metadata": {
        "id": "juTKE2l5CKmn",
        "colab_type": "code",
        "colab": {}
      },
      "source": [
        "opt_adam = Adam(lr=0.001)\n",
        "model.compile(optimizer=opt_adam, loss=keras.losses.categorical_crossentropy, metrics=['accuracy'])"
      ],
      "execution_count": 0,
      "outputs": []
    },
    {
      "cell_type": "code",
      "metadata": {
        "id": "dr2bqQ81CQfx",
        "colab_type": "code",
        "colab": {}
      },
      "source": [
        "log_dir = \"logs/fit/\" + datetime.datetime.now().strftime(\"%Y%m%d-%H%M%S\")\n",
        "tensorboard_callback = TensorBoard(log_dir=log_dir, histogram_freq=1)"
      ],
      "execution_count": 0,
      "outputs": []
    },
    {
      "cell_type": "code",
      "metadata": {
        "id": "sy7hl4BSCTuM",
        "colab_type": "code",
        "outputId": "7504fde9-b84c-4d08-ded8-330e1c66e778",
        "colab": {
          "base_uri": "https://localhost:8080/",
          "height": 168
        }
      },
      "source": [
        "# Train the model \n",
        "model.fit(xTrain, yTrain, batch_size = 128, epochs=50, verbose = 1, validation_split=0.2, callbacks=[tensorboard_callback])"
      ],
      "execution_count": 0,
      "outputs": [
        {
          "output_type": "stream",
          "text": [
            "Train on 40000 samples, validate on 10000 samples\n",
            "Epoch 1/50\n",
            "40000/40000 [==============================] - 1571s 39ms/step - loss: 4.6147 - accuracy: 0.0089 - val_loss: 4.6061 - val_accuracy: 0.0077\n",
            "Epoch 2/50\n",
            "40000/40000 [==============================] - 1517s 38ms/step - loss: 4.6051 - accuracy: 0.0099 - val_loss: 4.6071 - val_accuracy: 0.0084\n",
            "Epoch 3/50\n",
            "40000/40000 [==============================] - 1544s 39ms/step - loss: 4.6054 - accuracy: 0.0096 - val_loss: 4.6068 - val_accuracy: 0.0077\n",
            "Epoch 4/50\n",
            "23168/40000 [================>.............] - ETA: 10:43 - loss: 4.6051 - accuracy: 0.0100"
          ],
          "name": "stdout"
        }
      ]
    },
    {
      "cell_type": "code",
      "metadata": {
        "id": "b3dyGiLRCZ_Z",
        "colab_type": "code",
        "colab": {}
      },
      "source": [
        "# Evaluate the model\n",
        "history = model.evaluate(xTest, yTest, batch_size = 128, verbose = 3)\n",
        "\n",
        "# Print the model's accuracy\n",
        "print(history)"
      ],
      "execution_count": 0,
      "outputs": []
    },
    {
      "cell_type": "code",
      "metadata": {
        "id": "0LLMELxECmo3",
        "colab_type": "code",
        "colab": {}
      },
      "source": [
        "%tensorboard --logdir logs/fit"
      ],
      "execution_count": 0,
      "outputs": []
    },
    {
      "cell_type": "code",
      "metadata": {
        "id": "XDaCz4TjYMk8",
        "colab_type": "code",
        "colab": {}
      },
      "source": [
        ""
      ],
      "execution_count": 0,
      "outputs": []
    }
  ]
}