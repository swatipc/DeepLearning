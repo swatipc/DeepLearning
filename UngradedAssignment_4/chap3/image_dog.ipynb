{
  "nbformat": 4,
  "nbformat_minor": 0,
  "metadata": {
    "colab": {
      "name": "image_dog.ipynb",
      "provenance": []
    },
    "kernelspec": {
      "name": "python3",
      "display_name": "Python 3"
    }
  },
  "cells": [
    {
      "cell_type": "code",
      "metadata": {
        "id": "06BUzsnz1WO-",
        "colab_type": "code",
        "outputId": "728a41bd-b5ab-4c17-f620-f25cdc823842",
        "colab": {
          "base_uri": "https://localhost:8080/",
          "height": 34
        }
      },
      "source": [
        "import imageio\n",
        "arr = imageio.imread('bobby.jpg')\n",
        "arr.shape"
      ],
      "execution_count": 3,
      "outputs": [
        {
          "output_type": "execute_result",
          "data": {
            "text/plain": [
              "(720, 1280, 3)"
            ]
          },
          "metadata": {
            "tags": []
          },
          "execution_count": 3
        }
      ]
    },
    {
      "cell_type": "code",
      "metadata": {
        "id": "P41-KBZE1a-G",
        "colab_type": "code",
        "colab": {}
      },
      "source": [
        "import torch\n",
        "image = torch.from_numpy(arr)\n",
        "o = torch.transpose(image, 0, 2)"
      ],
      "execution_count": 0,
      "outputs": []
    },
    {
      "cell_type": "code",
      "metadata": {
        "id": "9BulRWXJ1del",
        "colab_type": "code",
        "colab": {}
      },
      "source": [
        "batch = torch.zeros(100, 3, 256, 256, dtype=torch.uint8)"
      ],
      "execution_count": 0,
      "outputs": []
    },
    {
      "cell_type": "code",
      "metadata": {
        "id": "vyPgPvIb1muX",
        "colab_type": "code",
        "colab": {}
      },
      "source": [
        "import os\n",
        "input_dir = 'sample_data/'\n",
        "filenames = [name for name in os.listdir(input_dir) if os.path.splitext(name)== '.png']\n",
        "for i, filename in enumerate(filenames):\n",
        "    arr = imageio.imread(filename)\n",
        "    batch[i] = torch.transpose(torch.from_numpy(arr), 0, 2)"
      ],
      "execution_count": 0,
      "outputs": []
    },
    {
      "cell_type": "code",
      "metadata": {
        "id": "UQhpA8Gc1qAh",
        "colab_type": "code",
        "colab": {}
      },
      "source": [
        "batch = batch.float()\n",
        "batch /= 255.0"
      ],
      "execution_count": 0,
      "outputs": []
    },
    {
      "cell_type": "code",
      "metadata": {
        "id": "lDRhLrJS2KEg",
        "colab_type": "code",
        "colab": {}
      },
      "source": [
        "channels = batch.shape[1]\n",
        "for c in range(channels):\n",
        "    mean = torch.mean(batch[:, c])\n",
        "    std = torch.std(batch[:, c])\n",
        "    batch[:, c] = (batch[:, c] - mean) / std\n"
      ],
      "execution_count": 0,
      "outputs": []
    }
  ]
}