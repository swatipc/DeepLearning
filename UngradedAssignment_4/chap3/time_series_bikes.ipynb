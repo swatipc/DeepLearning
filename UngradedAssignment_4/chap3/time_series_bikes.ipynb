{
  "nbformat": 4,
  "nbformat_minor": 0,
  "metadata": {
    "colab": {
      "name": "time_series_bikes.ipynb",
      "provenance": []
    },
    "kernelspec": {
      "name": "python3",
      "display_name": "Python 3"
    }
  },
  "cells": [
    {
      "cell_type": "code",
      "metadata": {
        "id": "U3xbWEqCwsbw",
        "colab_type": "code",
        "outputId": "cf45c7a7-343c-4aff-e80c-c0ca6cdc1f9f",
        "colab": {
          "base_uri": "https://localhost:8080/",
          "height": 238
        }
      },
      "source": [
        "import numpy as np\n",
        "import torch\n",
        "bikes_np = np.loadtxt(\"hour-fixed.csv\", dtype=np.float32, delimiter=\",\", skiprows=1, converters={1: lambda x: float(x[8:10])})\n",
        "bikes = torch.from_numpy(bikes_np)\n",
        "bikes"
      ],
      "execution_count": 2,
      "outputs": [
        {
          "output_type": "execute_result",
          "data": {
            "text/plain": [
              "tensor([[1.0000e+00, 1.0000e+00, 1.0000e+00,  ..., 3.0000e+00, 1.3000e+01,\n",
              "         1.6000e+01],\n",
              "        [2.0000e+00, 1.0000e+00, 1.0000e+00,  ..., 8.0000e+00, 3.2000e+01,\n",
              "         4.0000e+01],\n",
              "        [3.0000e+00, 1.0000e+00, 1.0000e+00,  ..., 5.0000e+00, 2.7000e+01,\n",
              "         3.2000e+01],\n",
              "        ...,\n",
              "        [1.7377e+04, 3.1000e+01, 1.0000e+00,  ..., 7.0000e+00, 8.3000e+01,\n",
              "         9.0000e+01],\n",
              "        [1.7378e+04, 3.1000e+01, 1.0000e+00,  ..., 1.3000e+01, 4.8000e+01,\n",
              "         6.1000e+01],\n",
              "        [1.7379e+04, 3.1000e+01, 1.0000e+00,  ..., 1.2000e+01, 3.7000e+01,\n",
              "         4.9000e+01]])"
            ]
          },
          "metadata": {
            "tags": []
          },
          "execution_count": 2
        }
      ]
    },
    {
      "cell_type": "code",
      "metadata": {
        "id": "ffsdRXh_xQ9w",
        "colab_type": "code",
        "outputId": "8eba12b5-b430-41e9-d041-ec601d775f89",
        "colab": {
          "base_uri": "https://localhost:8080/",
          "height": 34
        }
      },
      "source": [
        "bikes.shape, bikes.stride()\n"
      ],
      "execution_count": 3,
      "outputs": [
        {
          "output_type": "execute_result",
          "data": {
            "text/plain": [
              "(torch.Size([17520, 17]), (17, 1))"
            ]
          },
          "metadata": {
            "tags": []
          },
          "execution_count": 3
        }
      ]
    },
    {
      "cell_type": "code",
      "metadata": {
        "id": "QVapQwj2xk0G",
        "colab_type": "code",
        "outputId": "862b6974-4dc8-4490-d87b-1e0c008b1d58",
        "colab": {
          "base_uri": "https://localhost:8080/",
          "height": 34
        }
      },
      "source": [
        "bikes_daily = bikes.view(-1, 24, bikes.shape[1])\n",
        "bikes_daily.shape, bikes_daily.stride()"
      ],
      "execution_count": 4,
      "outputs": [
        {
          "output_type": "execute_result",
          "data": {
            "text/plain": [
              "(torch.Size([730, 24, 17]), (408, 17, 1))"
            ]
          },
          "metadata": {
            "tags": []
          },
          "execution_count": 4
        }
      ]
    },
    {
      "cell_type": "code",
      "metadata": {
        "id": "yoYz9AVlxm6H",
        "colab_type": "code",
        "outputId": "35b59fee-bc04-40e8-e9b8-283c0a94beed",
        "colab": {
          "base_uri": "https://localhost:8080/",
          "height": 34
        }
      },
      "source": [
        "bikes_daily = bikes_daily.transpose(1, 2)\n",
        "bikes_daily.shape, bikes_daily.stride()"
      ],
      "execution_count": 5,
      "outputs": [
        {
          "output_type": "execute_result",
          "data": {
            "text/plain": [
              "(torch.Size([730, 17, 24]), (408, 1, 17))"
            ]
          },
          "metadata": {
            "tags": []
          },
          "execution_count": 5
        }
      ]
    },
    {
      "cell_type": "code",
      "metadata": {
        "id": "myarmNyjxqPZ",
        "colab_type": "code",
        "outputId": "6728f01b-20d3-48d9-a792-f53536c04ad1",
        "colab": {
          "base_uri": "https://localhost:8080/",
          "height": 34
        }
      },
      "source": [
        "first = bikes[:24].long()\n",
        "weather_onehot = torch.zeros(first.shape[0], 4)\n",
        "first[:,9]"
      ],
      "execution_count": 6,
      "outputs": [
        {
          "output_type": "execute_result",
          "data": {
            "text/plain": [
              "tensor([1, 1, 1, 1, 1, 2, 1, 1, 1, 1, 1, 1, 1, 2, 2, 2, 2, 2, 3, 3, 2, 2, 2, 2])"
            ]
          },
          "metadata": {
            "tags": []
          },
          "execution_count": 6
        }
      ]
    },
    {
      "cell_type": "code",
      "metadata": {
        "id": "-xSdxLUYxsHV",
        "colab_type": "code",
        "outputId": "e215e1e3-2701-4c67-c255-45efc863d051",
        "colab": {
          "base_uri": "https://localhost:8080/",
          "height": 425
        }
      },
      "source": [
        "weather_onehot.scatter_(dim=1, index=first[:,9].unsqueeze(1) - 1, value=1.0)"
      ],
      "execution_count": 7,
      "outputs": [
        {
          "output_type": "execute_result",
          "data": {
            "text/plain": [
              "tensor([[1., 0., 0., 0.],\n",
              "        [1., 0., 0., 0.],\n",
              "        [1., 0., 0., 0.],\n",
              "        [1., 0., 0., 0.],\n",
              "        [1., 0., 0., 0.],\n",
              "        [0., 1., 0., 0.],\n",
              "        [1., 0., 0., 0.],\n",
              "        [1., 0., 0., 0.],\n",
              "        [1., 0., 0., 0.],\n",
              "        [1., 0., 0., 0.],\n",
              "        [1., 0., 0., 0.],\n",
              "        [1., 0., 0., 0.],\n",
              "        [1., 0., 0., 0.],\n",
              "        [0., 1., 0., 0.],\n",
              "        [0., 1., 0., 0.],\n",
              "        [0., 1., 0., 0.],\n",
              "        [0., 1., 0., 0.],\n",
              "        [0., 1., 0., 0.],\n",
              "        [0., 0., 1., 0.],\n",
              "        [0., 0., 1., 0.],\n",
              "        [0., 1., 0., 0.],\n",
              "        [0., 1., 0., 0.],\n",
              "        [0., 1., 0., 0.],\n",
              "        [0., 1., 0., 0.]])"
            ]
          },
          "metadata": {
            "tags": []
          },
          "execution_count": 7
        }
      ]
    },
    {
      "cell_type": "code",
      "metadata": {
        "id": "_JD6nN3xxucx",
        "colab_type": "code",
        "outputId": "dc122c46-8469-441e-8800-445e8febb70b",
        "colab": {
          "base_uri": "https://localhost:8080/",
          "height": 68
        }
      },
      "source": [
        "torch.cat((bikes[:24], weather_onehot), 1)[:1]"
      ],
      "execution_count": 8,
      "outputs": [
        {
          "output_type": "execute_result",
          "data": {
            "text/plain": [
              "tensor([[ 1.0000,  1.0000,  1.0000,  0.0000,  1.0000,  0.0000,  0.0000,  6.0000,\n",
              "          0.0000,  1.0000,  0.2400,  0.2879,  0.8100,  0.0000,  3.0000, 13.0000,\n",
              "         16.0000,  1.0000,  0.0000,  0.0000,  0.0000]])"
            ]
          },
          "metadata": {
            "tags": []
          },
          "execution_count": 8
        }
      ]
    },
    {
      "cell_type": "code",
      "metadata": {
        "id": "wCsNJUjxxyHl",
        "colab_type": "code",
        "outputId": "b1802354-b52d-4c63-9063-40f425762b03",
        "colab": {
          "base_uri": "https://localhost:8080/",
          "height": 34
        }
      },
      "source": [
        "weather_daily_onehot = torch.zeros(bikes_daily.shape[0], 4,\n",
        "bikes_daily.shape[2])\n",
        "weather_daily_onehot.shape"
      ],
      "execution_count": 9,
      "outputs": [
        {
          "output_type": "execute_result",
          "data": {
            "text/plain": [
              "torch.Size([730, 4, 24])"
            ]
          },
          "metadata": {
            "tags": []
          },
          "execution_count": 9
        }
      ]
    },
    {
      "cell_type": "code",
      "metadata": {
        "id": "K6xOWMvZxzu3",
        "colab_type": "code",
        "outputId": "01ce8f30-b52d-4d70-8cc3-92a3df1b823f",
        "colab": {
          "base_uri": "https://localhost:8080/",
          "height": 34
        }
      },
      "source": [
        "weather_daily_onehot.scatter_(1, bikes_daily[:,9,:].long().unsqueeze(1) - 1,\n",
        "     1.0)\n",
        "weather_daily_onehot.shape"
      ],
      "execution_count": 10,
      "outputs": [
        {
          "output_type": "execute_result",
          "data": {
            "text/plain": [
              "torch.Size([730, 4, 24])"
            ]
          },
          "metadata": {
            "tags": []
          },
          "execution_count": 10
        }
      ]
    },
    {
      "cell_type": "code",
      "metadata": {
        "id": "O4Fa8_w7x2Li",
        "colab_type": "code",
        "colab": {}
      },
      "source": [
        "bikes_daily = torch.cat((bikes_daily, weather_daily_onehot), dim=1)"
      ],
      "execution_count": 0,
      "outputs": []
    },
    {
      "cell_type": "code",
      "metadata": {
        "id": "2Lxk1yodx4dV",
        "colab_type": "code",
        "colab": {}
      },
      "source": [
        "bikes_daily[:, 9, :] = (bikes_daily[:, 9, :] - 1.0) / 3.0"
      ],
      "execution_count": 0,
      "outputs": []
    },
    {
      "cell_type": "code",
      "metadata": {
        "id": "sa-Fgfigx6ou",
        "colab_type": "code",
        "colab": {}
      },
      "source": [
        "tmp = bikes_daily[:, 10, :]\n",
        "min = torch.min(tmp)\n",
        "max = torch.max(tmp)\n",
        "bikes_daily[:, 10, :] = (bikes_daily[:, 10, :] - min) / (max -\n",
        "min)"
      ],
      "execution_count": 0,
      "outputs": []
    },
    {
      "cell_type": "code",
      "metadata": {
        "id": "ypaFwAE6x8qf",
        "colab_type": "code",
        "colab": {}
      },
      "source": [
        "tmp = bikes_daily[:, 10, :]\n",
        "bikes_daily[:, 10, :] = (bikes_daily[:, 10, :] - torch.mean(tmp)) / torch.std(tmp)"
      ],
      "execution_count": 0,
      "outputs": []
    }
  ]
}