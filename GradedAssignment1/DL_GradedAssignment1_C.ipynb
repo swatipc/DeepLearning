{
  "nbformat": 4,
  "nbformat_minor": 0,
  "metadata": {
    "colab": {
      "name": "DL_GradedAssignment1_C.ipynb",
      "provenance": []
    },
    "kernelspec": {
      "name": "python3",
      "display_name": "Python 3"
    }
  },
  "cells": [
    {
      "cell_type": "markdown",
      "metadata": {
        "id": "oqQQnivQC7nS",
        "colab_type": "text"
      },
      "source": [
        "__Image Augmentation using Keras__"
      ]
    },
    {
      "cell_type": "code",
      "metadata": {
        "id": "iEK4SJdkDFOg",
        "colab_type": "code",
        "colab": {}
      },
      "source": [
        "# Load required libraries\n",
        "import numpy as np\n",
        "import matplotlib.pyplot as plt\n",
        "from keras.datasets import mnist\n",
        "from keras.utils import to_categorical\n",
        "from keras.preprocessing.image import ImageDataGenerator\n",
        "from sklearn.metrics import accuracy_score"
      ],
      "execution_count": 0,
      "outputs": []
    },
    {
      "cell_type": "code",
      "metadata": {
        "id": "ZpD8ZD2LDPa5",
        "colab_type": "code",
        "colab": {}
      },
      "source": [
        "#Load MNIST dataset\n",
        "(xTrain, yTrain), (xTest, yTest) = mnist.load_data()\n"
      ],
      "execution_count": 0,
      "outputs": []
    },
    {
      "cell_type": "code",
      "metadata": {
        "id": "WrEoh7aUDegG",
        "colab_type": "code",
        "colab": {}
      },
      "source": [
        "# Reshaping the data in terms of height, width and channels\n",
        "xTrain = xTrain.reshape((xTrain.shape[0],28,28,1))\n",
        "xTest = xTest.reshape((xTest.shape[0],28,28,1))\n",
        "\n",
        "#Converting datatype from int to float\n",
        "xTrain = xTrain.astype('float32')\n",
        "xTest = xTest.astype('float32')\n"
      ],
      "execution_count": 0,
      "outputs": []
    },
    {
      "cell_type": "code",
      "metadata": {
        "id": "c_3rDMgYDk24",
        "colab_type": "code",
        "outputId": "ba404fe4-e55b-41a9-ddb4-b34d9a5cdc40",
        "colab": {
          "base_uri": "https://localhost:8080/",
          "height": 191
        }
      },
      "source": [
        "# Defining data preparation\n",
        "data_aug = ImageDataGenerator(featurewise_center=True, featurewise_std_normalization=True)\n",
        "\n",
        "# Fitting data in model\n",
        "data_aug.fit(xTrain)\n",
        "\n",
        "# configure batch size of images tp dissplay a Pyplot\n",
        "for xT in data_aug.flow(xTrain, batch_size=6):\n",
        "\tfor n in range(0, 6):\n",
        "\t\tplt.subplot(330 + 1 + n)\n",
        "\t\tplt.imshow(xT[n].reshape(28, 28), cmap=plt.get_cmap('gray'))\n",
        "\tplt.show()\n",
        "\tbreak"
      ],
      "execution_count": 0,
      "outputs": [
        {
          "output_type": "display_data",
          "data": {
            "image/png": "[encoded data removed]",
            "text/plain": [
              "<Figure size 432x288 with 6 Axes>"
            ]
          },
          "metadata": {
            "tags": []
          }
        }
      ]
    },
    {
      "cell_type": "markdown",
      "metadata": {
        "id": "kMRHdvoQVAnF",
        "colab_type": "text"
      },
      "source": [
        "Above images give darkening effect."
      ]
    },
    {
      "cell_type": "code",
      "metadata": {
        "id": "0_orWMloVEj2",
        "colab_type": "code",
        "outputId": "769e574d-3910-4b07-9f38-c66a988c8782",
        "colab": {
          "base_uri": "https://localhost:8080/",
          "height": 245
        }
      },
      "source": [
        "# Defining data preparation\n",
        "data_aug = ImageDataGenerator(zca_whitening=True)\n",
        "\n",
        "# Fitting data in model\n",
        "data_aug.fit(xTrain)\n",
        "\n",
        "# configure batch size of images tp dissplay a Pyplot\n",
        "for xT in data_aug.flow(xTrain, batch_size=6):\n",
        "\tfor n in range(0, 6):\n",
        "\t\tplt.subplot(330 + 1 + n)\n",
        "\t\tplt.imshow(xT[n].reshape(28, 28), cmap=plt.get_cmap('gray'))\n",
        "\tplt.show()\n",
        "\tbreak"
      ],
      "execution_count": 0,
      "outputs": [
        {
          "output_type": "stream",
          "text": [
            "/usr/local/lib/python3.6/dist-packages/keras_preprocessing/image/image_data_generator.py:336: UserWarning: This ImageDataGenerator specifies `zca_whitening`, which overrides setting of `featurewise_center`.\n",
            "  warnings.warn('This ImageDataGenerator specifies '\n"
          ],
          "name": "stderr"
        },
        {
          "output_type": "display_data",
          "data": {
            "image/png": "[encoded data removed]",
            "text/plain": [
              "<Figure size 432x288 with 6 Axes>"
            ]
          },
          "metadata": {
            "tags": []
          }
        }
      ]
    },
    {
      "cell_type": "markdown",
      "metadata": {
        "id": "2bc99iOwVbdI",
        "colab_type": "text"
      },
      "source": [
        "Above images highlight border of the digits."
      ]
    },
    {
      "cell_type": "code",
      "metadata": {
        "id": "s3dsG0vTVk--",
        "colab_type": "code",
        "outputId": "e49f46ff-cf93-4ae9-d257-a61d6e84a40f",
        "colab": {
          "base_uri": "https://localhost:8080/",
          "height": 191
        }
      },
      "source": [
        "# Defining data preparation\n",
        "data_aug = ImageDataGenerator(horizontal_flip=True, vertical_flip=True)\n",
        "\n",
        "# Fitting data in model\n",
        "data_aug.fit(xTrain)\n",
        "\n",
        "# configure batch size of images tp dissplay a Pyplot\n",
        "for xT in data_aug.flow(xTrain, batch_size=6):\n",
        "\tfor n in range(0, 6):\n",
        "\t\tplt.subplot(330 + 1 + n)\n",
        "\t\tplt.imshow(xT[n].reshape(28, 28), cmap=plt.get_cmap('gray'))\n",
        "\tplt.show()\n",
        "\tbreak"
      ],
      "execution_count": 0,
      "outputs": [
        {
          "output_type": "display_data",
          "data": {
            "image/png": "[encoded data removed]",
            "text/plain": [
              "<Figure size 432x288 with 6 Axes>"
            ]
          },
          "metadata": {
            "tags": []
          }
        }
      ]
    },
    {
      "cell_type": "markdown",
      "metadata": {
        "id": "cC3QdeCOV2EX",
        "colab_type": "text"
      },
      "source": [
        "Above images are horizontally and vertically flipped."
      ]
    },
    {
      "cell_type": "code",
      "metadata": {
        "id": "zTpdQjPyV9fv",
        "colab_type": "code",
        "outputId": "e099728f-dfbc-4bce-f510-fb8d90812072",
        "colab": {
          "base_uri": "https://localhost:8080/",
          "height": 191
        }
      },
      "source": [
        "# Defining data preparation\n",
        "data_aug = ImageDataGenerator(rotation_range=90)\n",
        "\n",
        "# Fitting data in model\n",
        "data_aug.fit(xTrain)\n",
        "\n",
        "# configure batch size of images tp dissplay a Pyplot\n",
        "for xT in data_aug.flow(xTrain, batch_size=6):\n",
        "\tfor n in range(0, 6):\n",
        "\t\tplt.subplot(330 + 1 + n)\n",
        "\t\tplt.imshow(xT[n].reshape(28, 28), cmap=plt.get_cmap('gray'))\n",
        "\tplt.show()\n",
        "\tbreak"
      ],
      "execution_count": 0,
      "outputs": [
        {
          "output_type": "display_data",
          "data": {
            "image/png": "[encoded data removed]",
            "text/plain": [
              "<Figure size 432x288 with 6 Axes>"
            ]
          },
          "metadata": {
            "tags": []
          }
        }
      ]
    },
    {
      "cell_type": "markdown",
      "metadata": {
        "id": "OxFziaeJWzYd",
        "colab_type": "text"
      },
      "source": [
        "Above images are rotated to left and right upto 90 degrees."
      ]
    }
  ]
}