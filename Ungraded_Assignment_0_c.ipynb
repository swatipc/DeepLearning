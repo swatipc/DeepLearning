{
  "nbformat": 4,
  "nbformat_minor": 0,
  "metadata": {
    "colab": {
      "name": "Ungraded_Assignment_0_c",
      "provenance": [],
      "authorship_tag": "ABX9TyOMAFDgGeIR9lNKYkgzK53h",
      "include_colab_link": true
    },
    "kernelspec": {
      "name": "python3",
      "display_name": "Python 3"
    }
  },
  "cells": [
    {
      "cell_type": "markdown",
      "metadata": {
        "id": "view-in-github",
        "colab_type": "text"
      },
      "source": [
        "<a href=\"https://colab.research.google.com/github/swatipc/DeepLearning/blob/master/Ungraded_Assignment_0_c.ipynb\" target=\"_parent\"><img src=\"https://colab.research.google.com/assets/colab-badge.svg\" alt=\"Open In Colab\"/></a>"
      ]
    },
    {
      "cell_type": "markdown",
      "metadata": {
        "id": "aSWXOqil63i7",
        "colab_type": "text"
      },
      "source": [
        "_homework_"
      ]
    },
    {
      "cell_type": "markdown",
      "metadata": {
        "id": "A3gpO6al69y-",
        "colab_type": "text"
      },
      "source": [
        "__homework__"
      ]
    },
    {
      "cell_type": "markdown",
      "metadata": {
        "id": "8E3f3pVD7Eyx",
        "colab_type": "text"
      },
      "source": [
        "'homework'"
      ]
    },
    {
      "cell_type": "markdown",
      "metadata": {
        "id": "8ipRhOtx7SS1",
        "colab_type": "text"
      },
      "source": [
        ">homework"
      ]
    },
    {
      "cell_type": "markdown",
      "metadata": {
        "id": "jhcFE09G7gph",
        "colab_type": "text"
      },
      "source": [
        "#homework#"
      ]
    },
    {
      "cell_type": "markdown",
      "metadata": {
        "id": "cl6J9Gub7nAZ",
        "colab_type": "text"
      },
      "source": [
        "##homework##"
      ]
    },
    {
      "cell_type": "markdown",
      "metadata": {
        "id": "f-RdT_f47qWD",
        "colab_type": "text"
      },
      "source": [
        "###homework###"
      ]
    },
    {
      "cell_type": "markdown",
      "metadata": {
        "id": "VbIzwqrz7vvV",
        "colab_type": "text"
      },
      "source": [
        "####homework####"
      ]
    },
    {
      "cell_type": "code",
      "metadata": {
        "id": "R0N0Hf5F7yCM",
        "colab_type": "code",
        "colab": {}
      },
      "source": [
        ""
      ],
      "execution_count": 0,
      "outputs": []
    }
  ]
}